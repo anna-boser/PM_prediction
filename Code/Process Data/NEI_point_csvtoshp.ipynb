{
 "cells": [
  {
   "cell_type": "code",
   "execution_count": 79,
   "metadata": {},
   "outputs": [],
   "source": [
    "import numpy as np\n",
    "import pandas as pd\n",
    "import geopandas as gpd\n",
    "from shapely.geometry import Point"
   ]
  },
  {
   "cell_type": "code",
   "execution_count": 80,
   "metadata": {},
   "outputs": [],
   "source": [
    "my_data = pd.read_csv('C:\\\\Users\\\\phili\\\\Documents\\\\Anna-Project\\\\PM_prediction\\\\Data\\\\NEI\\\\cropped_point_NEI.csv', low_memory=False)\n",
    "my_data = np.array(my_data)\n",
    "my_data = np.delete(my_data, 0, 1)"
   ]
  },
  {
   "cell_type": "code",
   "execution_count": 81,
   "metadata": {},
   "outputs": [],
   "source": [
    "# remove all unused data\n",
    "my_data = np.array([[my_data[:,12]],[my_data[:,13]],[my_data[:,23]],[my_data[:,24]]])\n",
    "my_data = my_data.transpose()"
   ]
  },
  {
   "cell_type": "code",
   "execution_count": 82,
   "metadata": {},
   "outputs": [
    {
     "name": "stdout",
     "output_type": "stream",
     "text": [
      "[['poll' 'ann_value' 'longitude' 'latitude']]\n",
      "366290\n"
     ]
    }
   ],
   "source": [
    "print(my_data[0])\n",
    "print(len(my_data[:,0]))"
   ]
  },
  {
   "cell_type": "code",
   "execution_count": 83,
   "metadata": {},
   "outputs": [],
   "source": [
    "my_dict = {}\n",
    "my_index = my_data[0][0]\n",
    "\n",
    "my_index = my_index.reshape(1,4)\n",
    "#temp = my_data[:,0][0].reshape(1,4)\n",
    "#print(np.append(my_index,temp,axis=0))\n",
    "for i in my_data[:,0]:\n",
    "    #print(i[1][0])\n",
    "    if i[0][0] == 'P' and not i[0][2] == '1':\n",
    "        i = np.reshape(i,(1,4))\n",
    "        my_index = np.append(my_index,i,axis=0)\n",
    "\n",
    "    \n",
    "my_data = my_index"
   ]
  },
  {
   "cell_type": "code",
   "execution_count": 84,
   "metadata": {},
   "outputs": [
    {
     "name": "stdout",
     "output_type": "stream",
     "text": [
      "['PM-CON' '0.0' '-121.8727' '38.0298']\n"
     ]
    }
   ],
   "source": [
    "my_index = my_data[0]\n",
    "my_data = np.delete(my_data,0,0)\n",
    "print(my_data[1])"
   ]
  },
  {
   "cell_type": "code",
   "execution_count": 89,
   "metadata": {},
   "outputs": [
    {
     "name": "stdout",
     "output_type": "stream",
     "text": [
      "poll\n",
      "ann_value\n",
      "longitude\n",
      "latitude\n",
      "{'poll': array(['PM25-PRI', 'PM-CON', 'PM25-FIL', ..., 'PMFINE', 'PMFINE',\n",
      "       'PMFINE'], dtype=object), 'ann_value': array(['0.3953624', '0.0', '0.2249117', ..., '2.07651766875e-05',\n",
      "       '1.56589838481e-06', '0.078331546268'], dtype=object), 'longitude': array(['-121.78137', '-121.8727', '-121.8727', ..., '-121.2629',\n",
      "       '-120.9255', '-121.862'], dtype=object), 'latitude': array(['36.80554', '38.0298', '38.0298', ..., '37.8555', '37.0945',\n",
      "       '38.22'], dtype=object)}\n"
     ]
    }
   ],
   "source": [
    "index = 0\n",
    "for i in my_index:\n",
    "    my_dict[i] = my_data[:,index]\n",
    "    print(i)\n",
    "    index += 1\n",
    "#mydata = pd.DataFrame(data=my_data,index=my_index)\n",
    "print(my_dict)"
   ]
  },
  {
   "cell_type": "code",
   "execution_count": 90,
   "metadata": {},
   "outputs": [
    {
     "name": "stdout",
     "output_type": "stream",
     "text": [
      "['-121.78137' '-121.8727' '-121.8727' ... '-121.2629' '-120.9255'\n",
      " '-121.862']\n"
     ]
    }
   ],
   "source": [
    "print(my_dict['longitude'])"
   ]
  },
  {
   "cell_type": "code",
   "execution_count": 91,
   "metadata": {},
   "outputs": [
    {
     "name": "stdout",
     "output_type": "stream",
     "text": [
      "ok\n"
     ]
    }
   ],
   "source": [
    "my_df = pd.DataFrame(my_dict)\n",
    "\n",
    "my_df['geometry'] = my_df.apply(lambda x: Point((float(x.longitude), float(x.latitude))), axis=1)\n",
    "my_geo_df = gpd.GeoDataFrame(my_df, geometry='geometry')\n",
    "\n",
    "my_geo_df.to_file('C:\\\\Users\\\\phili\\\\Documents\\\\Anna-Project\\\\PM_prediction\\\\Data\\\\NEI\\\\cropped_point_NEI.shp', driver='ESRI Shapefile')\n",
    "print(\"ok\")"
   ]
  },
  {
   "cell_type": "code",
   "execution_count": null,
   "metadata": {},
   "outputs": [],
   "source": []
  }
 ],
 "metadata": {
  "kernelspec": {
   "display_name": "Python 3",
   "language": "python",
   "name": "python3"
  },
  "language_info": {
   "codemirror_mode": {
    "name": "ipython",
    "version": 3
   },
   "file_extension": ".py",
   "mimetype": "text/x-python",
   "name": "python",
   "nbconvert_exporter": "python",
   "pygments_lexer": "ipython3",
   "version": "3.8.3"
  }
 },
 "nbformat": 4,
 "nbformat_minor": 4
}
