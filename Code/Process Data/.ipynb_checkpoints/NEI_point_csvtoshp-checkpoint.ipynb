{
 "cells": [
  {
   "cell_type": "code",
   "execution_count": 1,
   "metadata": {},
   "outputs": [],
   "source": [
    "import numpy as np\n",
    "import pandas as pd\n",
    "import geopandas as gpd\n",
    "from shapely.geometry import Point"
   ]
  },
  {
   "cell_type": "code",
   "execution_count": 2,
   "metadata": {},
   "outputs": [],
   "source": [
    "my_data = pd.read_csv('C:\\\\Users\\\\phili\\\\Documents\\\\Anna-Project\\\\PM_prediction\\\\Data\\\\NEI\\\\cropped_point_NEI.csv', low_memory=False)\n",
    "my_data = np.array(my_data)\n",
    "my_data = np.delete(my_data, 0, 1)"
   ]
  },
  {
   "cell_type": "code",
   "execution_count": 3,
   "metadata": {},
   "outputs": [
    {
     "name": "stdout",
     "output_type": "stream",
     "text": [
      "['country_cd' 'region_cd' 'tribal_code' 'facility_id' 'unit_id'\n",
      " 'rel_point_id' 'process_id' 'agy_facility_id' 'agy_unit_id'\n",
      " 'agy_rel_point_id' 'agy_process_id' 'scc' 'poll' 'ann_value'\n",
      " 'ann_pct_red' 'facility_name' 'erptype' 'stkhgt' 'stkdiam' 'stktemp'\n",
      " 'stkflow' 'stkvel' 'naics' 'longitude' 'latitude' 'll_datum'\n",
      " 'horiz_coll_mthd' 'design_capacity' 'design_capacity_units' 'reg_codes'\n",
      " 'fac_source_type' 'unit_type_code' 'control_ids' 'control_measures'\n",
      " 'current_cost' 'cumulative_cost' 'projection_factor' 'submitter_id'\n",
      " 'calc_method' 'data_set_id' 'facil_category_code' 'oris_facility_code'\n",
      " 'oris_boiler_id' 'ipm_yn' 'calc_year' 'date_updated' 'fug_height'\n",
      " 'fug_width_xdim' 'fug_length_ydim' 'fug_angle' 'zipcode'\n",
      " 'annual_avg_hours_per_year' 'jan_value' 'feb_value' 'mar_value'\n",
      " 'apr_value' 'may_value' 'jun_value' 'jul_value' 'aug_value' 'sep_value'\n",
      " 'oct_value' 'nov_value' 'dec_value' 'jan_pctred' 'feb_pctred'\n",
      " 'mar_pctred' 'apr_pctred' 'may_pctred' 'jun_pctred' 'jul_pctred'\n",
      " 'aug_pctred' 'sep_pctred' 'oct_pctred' 'nov_pctred' 'dec_pctred'\n",
      " 'comment']\n"
     ]
    }
   ],
   "source": [
    "print(my_data[0])"
   ]
  },
  {
   "cell_type": "code",
   "execution_count": 4,
   "metadata": {},
   "outputs": [],
   "source": [
    "my_index = my_data[0]\n",
    "my_data = np.delete(my_data,0,0)\n",
    "my_dict = {}\n",
    "index = 0\n",
    "for i in my_index:\n",
    "    my_dict[i] = my_data[:,index]\n",
    "    index += 1\n",
    "#mydata = pd.DataFrame(data=my_data,index=my_index)\n",
    "#print(my_dict)"
   ]
  },
  {
   "cell_type": "code",
   "execution_count": 5,
   "metadata": {},
   "outputs": [
    {
     "name": "stdout",
     "output_type": "stream",
     "text": [
      "['-121.881651' '-121.33478' '-121.33478' ... '-121.862' '-121.862'\n",
      " '-121.862']\n"
     ]
    }
   ],
   "source": [
    "print(my_dict['longitude'])"
   ]
  },
  {
   "cell_type": "code",
   "execution_count": null,
   "metadata": {},
   "outputs": [],
   "source": [
    "my_df = pd.DataFrame(my_dict)\n",
    "\n",
    "my_df['geometry'] = my_df.apply(lambda x: Point((float(x.longitude), float(x.latitude))), axis=1)\n",
    "my_geo_df = gpd.GeoDataFrame(my_df, geometry='geometry')\n",
    "\n",
    "my_geo_df.to_file('C:\\\\Users\\\\phili\\\\Documents\\\\Anna-Project\\\\PM_prediction\\\\Data\\\\NEI\\\\cropped_point_NEI.shp', driver='ESRI Shapefile')"
   ]
  },
  {
   "cell_type": "code",
   "execution_count": null,
   "metadata": {},
   "outputs": [],
   "source": []
  }
 ],
 "metadata": {
  "kernelspec": {
   "display_name": "Python 3",
   "language": "python",
   "name": "python3"
  },
  "language_info": {
   "codemirror_mode": {
    "name": "ipython",
    "version": 3
   },
   "file_extension": ".py",
   "mimetype": "text/x-python",
   "name": "python",
   "nbconvert_exporter": "python",
   "pygments_lexer": "ipython3",
   "version": "3.8.3"
  }
 },
 "nbformat": 4,
 "nbformat_minor": 4
}
