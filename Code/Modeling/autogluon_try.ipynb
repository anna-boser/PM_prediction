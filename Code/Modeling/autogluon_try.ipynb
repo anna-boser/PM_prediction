{
  "nbformat": 4,
  "nbformat_minor": 0,
  "metadata": {
    "colab": {
      "name": "autogluon_try.ipynb",
      "provenance": []
    },
    "kernelspec": {
      "name": "python3",
      "display_name": "Python 3"
    }
  },
  "cells": [
    {
      "cell_type": "code",
      "metadata": {
        "id": "YxDtiBQU2-tc",
        "colab_type": "code",
        "colab": {
          "base_uri": "https://localhost:8080/",
          "height": 1000
        },
        "outputId": "b642e3ae-2bff-47c0-b84c-9ed7f9ed5510"
      },
      "source": [
        "!pip install --upgrade mxnet\n",
        "!pip install autogluon\n"
      ],
      "execution_count": 1,
      "outputs": [
        {
          "output_type": "stream",
          "text": [
            "Collecting mxnet\n",
            "\u001b[?25l  Downloading https://files.pythonhosted.org/packages/81/f5/d79b5b40735086ff1100c680703e0f3efc830fa455e268e9e96f3c857e93/mxnet-1.6.0-py2.py3-none-any.whl (68.7MB)\n",
            "\u001b[K     |████████████████████████████████| 68.7MB 56kB/s \n",
            "\u001b[?25hRequirement already satisfied, skipping upgrade: numpy<2.0.0,>1.16.0 in /usr/local/lib/python3.6/dist-packages (from mxnet) (1.18.5)\n",
            "Collecting graphviz<0.9.0,>=0.8.1\n",
            "  Downloading https://files.pythonhosted.org/packages/53/39/4ab213673844e0c004bed8a0781a0721a3f6bb23eb8854ee75c236428892/graphviz-0.8.4-py2.py3-none-any.whl\n",
            "Requirement already satisfied, skipping upgrade: requests<3,>=2.20.0 in /usr/local/lib/python3.6/dist-packages (from mxnet) (2.23.0)\n",
            "Requirement already satisfied, skipping upgrade: chardet<4,>=3.0.2 in /usr/local/lib/python3.6/dist-packages (from requests<3,>=2.20.0->mxnet) (3.0.4)\n",
            "Requirement already satisfied, skipping upgrade: urllib3!=1.25.0,!=1.25.1,<1.26,>=1.21.1 in /usr/local/lib/python3.6/dist-packages (from requests<3,>=2.20.0->mxnet) (1.24.3)\n",
            "Requirement already satisfied, skipping upgrade: certifi>=2017.4.17 in /usr/local/lib/python3.6/dist-packages (from requests<3,>=2.20.0->mxnet) (2020.6.20)\n",
            "Requirement already satisfied, skipping upgrade: idna<3,>=2.5 in /usr/local/lib/python3.6/dist-packages (from requests<3,>=2.20.0->mxnet) (2.10)\n",
            "Installing collected packages: graphviz, mxnet\n",
            "  Found existing installation: graphviz 0.10.1\n",
            "    Uninstalling graphviz-0.10.1:\n",
            "      Successfully uninstalled graphviz-0.10.1\n",
            "Successfully installed graphviz-0.8.4 mxnet-1.6.0\n",
            "Collecting autogluon\n",
            "\u001b[?25l  Downloading https://files.pythonhosted.org/packages/fc/da/7bbe33ed3cfa7321fca18c2545e5954e9ed9ce5beead76af49cbf1fe23c6/autogluon-0.0.12-py3-none-any.whl (515kB)\n",
            "\u001b[K     |████████████████████████████████| 522kB 2.7MB/s \n",
            "\u001b[?25hCollecting catboost<0.24\n",
            "\u001b[?25l  Downloading https://files.pythonhosted.org/packages/b2/aa/e61819d04ef2bbee778bf4b3a748db1f3ad23512377e43ecfdc3211437a0/catboost-0.23.2-cp36-none-manylinux1_x86_64.whl (64.8MB)\n",
            "\u001b[K     |████████████████████████████████| 64.8MB 59kB/s \n",
            "\u001b[?25hCollecting distributed>=2.6.0\n",
            "\u001b[?25l  Downloading https://files.pythonhosted.org/packages/db/79/c96c6aed4a8857b56073a08e6501f9968f2f40d880341f03a76cdb9af2e4/distributed-2.22.0-py3-none-any.whl (647kB)\n",
            "\u001b[K     |████████████████████████████████| 655kB 43.9MB/s \n",
            "\u001b[?25hRequirement already satisfied: requests in /usr/local/lib/python3.6/dist-packages (from autogluon) (2.23.0)\n",
            "Collecting gluoncv<1.0,>=0.5.0\n",
            "\u001b[?25l  Downloading https://files.pythonhosted.org/packages/fa/81/37a00609cb53da3671adb106b9bc03fb1c029ad5a8db4bc668283e65703d/gluoncv-0.7.0-py2.py3-none-any.whl (752kB)\n",
            "\u001b[K     |████████████████████████████████| 757kB 38.8MB/s \n",
            "\u001b[?25hRequirement already satisfied: dask>=2.6.0 in /usr/local/lib/python3.6/dist-packages (from autogluon) (2.12.0)\n",
            "Requirement already satisfied: matplotlib in /usr/local/lib/python3.6/dist-packages (from autogluon) (3.2.2)\n",
            "Requirement already satisfied: cython in /usr/local/lib/python3.6/dist-packages (from autogluon) (0.29.21)\n",
            "Collecting paramiko>=2.4\n",
            "\u001b[?25l  Downloading https://files.pythonhosted.org/packages/06/1e/1e08baaaf6c3d3df1459fd85f0e7d2d6aa916f33958f151ee1ecc9800971/paramiko-2.7.1-py2.py3-none-any.whl (206kB)\n",
            "\u001b[K     |████████████████████████████████| 215kB 50.4MB/s \n",
            "\u001b[?25hRequirement already satisfied: pytest in /usr/local/lib/python3.6/dist-packages (from autogluon) (3.6.4)\n",
            "Requirement already satisfied: tqdm>=4.38.0 in /usr/local/lib/python3.6/dist-packages (from autogluon) (4.41.1)\n",
            "Collecting Pillow<=6.2.1\n",
            "\u001b[?25l  Downloading https://files.pythonhosted.org/packages/10/5c/0e94e689de2476c4c5e644a3bd223a1c1b9e2bdb7c510191750be74fa786/Pillow-6.2.1-cp36-cp36m-manylinux1_x86_64.whl (2.1MB)\n",
            "\u001b[K     |████████████████████████████████| 2.1MB 44.7MB/s \n",
            "\u001b[?25hCollecting scikit-optimize\n",
            "\u001b[?25l  Downloading https://files.pythonhosted.org/packages/5c/87/310b52debfbc0cb79764e5770fa3f5c18f6f0754809ea9e2fc185e1b67d3/scikit_optimize-0.7.4-py2.py3-none-any.whl (80kB)\n",
            "\u001b[K     |████████████████████████████████| 81kB 8.9MB/s \n",
            "\u001b[?25hRequirement already satisfied: tornado>=5.0.1 in /usr/local/lib/python3.6/dist-packages (from autogluon) (5.1.1)\n",
            "Requirement already satisfied: numpy>=1.16.0 in /usr/local/lib/python3.6/dist-packages (from autogluon) (1.18.5)\n",
            "Requirement already satisfied: graphviz in /usr/local/lib/python3.6/dist-packages (from autogluon) (0.8.4)\n",
            "Requirement already satisfied: boto3 in /usr/local/lib/python3.6/dist-packages (from autogluon) (1.14.33)\n",
            "Requirement already satisfied: psutil>=5.0.0 in /usr/local/lib/python3.6/dist-packages (from autogluon) (5.4.8)\n",
            "Requirement already satisfied: networkx<3.0,>=2.3 in /usr/local/lib/python3.6/dist-packages (from autogluon) (2.4)\n",
            "Collecting openml\n",
            "\u001b[?25l  Downloading https://files.pythonhosted.org/packages/68/5b/cd32bb85651eccebfb489cc6ef7f060ce0f62350a6239127e398313090cc/openml-0.10.2.tar.gz (158kB)\n",
            "\u001b[K     |████████████████████████████████| 163kB 41.0MB/s \n",
            "\u001b[?25hCollecting lightgbm<3.0,>=2.3.0\n",
            "\u001b[?25l  Downloading https://files.pythonhosted.org/packages/0b/9d/ddcb2f43aca194987f1a99e27edf41cf9bc39ea750c3371c2a62698c509a/lightgbm-2.3.1-py2.py3-none-manylinux1_x86_64.whl (1.2MB)\n",
            "\u001b[K     |████████████████████████████████| 1.2MB 40.4MB/s \n",
            "\u001b[?25hCollecting ConfigSpace<=0.4.10\n",
            "\u001b[?25l  Downloading https://files.pythonhosted.org/packages/42/de/4e8e4f26332fc65404f52baa112defbf822b6738b60bfa6b2993f5c60933/ConfigSpace-0.4.10.tar.gz (882kB)\n",
            "\u001b[K     |████████████████████████████████| 890kB 41.0MB/s \n",
            "\u001b[?25hRequirement already satisfied: scipy>=1.3.3 in /usr/local/lib/python3.6/dist-packages (from autogluon) (1.4.1)\n",
            "Collecting pandas<1.0,>=0.24.0\n",
            "\u001b[?25l  Downloading https://files.pythonhosted.org/packages/52/3f/f6a428599e0d4497e1595030965b5ba455fd8ade6e977e3c819973c4b41d/pandas-0.25.3-cp36-cp36m-manylinux1_x86_64.whl (10.4MB)\n",
            "\u001b[K     |████████████████████████████████| 10.4MB 19.9MB/s \n",
            "\u001b[?25hRequirement already satisfied: scikit-learn<0.23,>=0.22.0 in /usr/local/lib/python3.6/dist-packages (from autogluon) (0.22.2.post1)\n",
            "Collecting cryptography>=2.8\n",
            "\u001b[?25l  Downloading https://files.pythonhosted.org/packages/ba/91/84a29d6a27fd6dfc21f475704c4d2053d58ed7a4033c2b0ce1b4ca4d03d9/cryptography-3.0-cp35-abi3-manylinux2010_x86_64.whl (2.7MB)\n",
            "\u001b[K     |████████████████████████████████| 2.7MB 39.0MB/s \n",
            "\u001b[?25hRequirement already satisfied: six in /usr/local/lib/python3.6/dist-packages (from catboost<0.24->autogluon) (1.15.0)\n",
            "Requirement already satisfied: plotly in /usr/local/lib/python3.6/dist-packages (from catboost<0.24->autogluon) (4.4.1)\n",
            "Requirement already satisfied: setuptools in /usr/local/lib/python3.6/dist-packages (from distributed>=2.6.0->autogluon) (49.2.0)\n",
            "Collecting cloudpickle>=1.5.0\n",
            "  Downloading https://files.pythonhosted.org/packages/8f/d7/bdb029d3de92c165afe6cdc69a2d01e26189b3bad64a1edf6ef5a5f11d1a/cloudpickle-1.5.0-py3-none-any.whl\n",
            "Requirement already satisfied: sortedcontainers!=2.0.0,!=2.0.1 in /usr/local/lib/python3.6/dist-packages (from distributed>=2.6.0->autogluon) (2.2.2)\n",
            "Requirement already satisfied: tblib>=1.6.0 in /usr/local/lib/python3.6/dist-packages (from distributed>=2.6.0->autogluon) (1.7.0)\n",
            "Requirement already satisfied: msgpack>=0.6.0 in /usr/local/lib/python3.6/dist-packages (from distributed>=2.6.0->autogluon) (1.0.0)\n",
            "Requirement already satisfied: toolz>=0.8.2 in /usr/local/lib/python3.6/dist-packages (from distributed>=2.6.0->autogluon) (0.10.0)\n",
            "Requirement already satisfied: zict>=0.1.3 in /usr/local/lib/python3.6/dist-packages (from distributed>=2.6.0->autogluon) (2.0.0)\n",
            "Collecting contextvars; python_version < \"3.7\"\n",
            "  Downloading https://files.pythonhosted.org/packages/83/96/55b82d9f13763be9d672622e1b8106c85acb83edd7cc2fa5bc67cd9877e9/contextvars-2.4.tar.gz\n",
            "Requirement already satisfied: pyyaml in /usr/local/lib/python3.6/dist-packages (from distributed>=2.6.0->autogluon) (3.13)\n",
            "Requirement already satisfied: click>=6.6 in /usr/local/lib/python3.6/dist-packages (from distributed>=2.6.0->autogluon) (7.1.2)\n",
            "Requirement already satisfied: certifi>=2017.4.17 in /usr/local/lib/python3.6/dist-packages (from requests->autogluon) (2020.6.20)\n",
            "Requirement already satisfied: urllib3!=1.25.0,!=1.25.1,<1.26,>=1.21.1 in /usr/local/lib/python3.6/dist-packages (from requests->autogluon) (1.24.3)\n",
            "Requirement already satisfied: chardet<4,>=3.0.2 in /usr/local/lib/python3.6/dist-packages (from requests->autogluon) (3.0.4)\n",
            "Requirement already satisfied: idna<3,>=2.5 in /usr/local/lib/python3.6/dist-packages (from requests->autogluon) (2.10)\n",
            "Collecting portalocker\n",
            "  Downloading https://files.pythonhosted.org/packages/89/a6/3814b7107e0788040870e8825eebf214d72166adf656ba7d4bf14759a06a/portalocker-2.0.0-py2.py3-none-any.whl\n",
            "Requirement already satisfied: python-dateutil>=2.1 in /usr/local/lib/python3.6/dist-packages (from matplotlib->autogluon) (2.8.1)\n",
            "Requirement already satisfied: cycler>=0.10 in /usr/local/lib/python3.6/dist-packages (from matplotlib->autogluon) (0.10.0)\n",
            "Requirement already satisfied: pyparsing!=2.0.4,!=2.1.2,!=2.1.6,>=2.0.1 in /usr/local/lib/python3.6/dist-packages (from matplotlib->autogluon) (2.4.7)\n",
            "Requirement already satisfied: kiwisolver>=1.0.1 in /usr/local/lib/python3.6/dist-packages (from matplotlib->autogluon) (1.2.0)\n",
            "Collecting bcrypt>=3.1.3\n",
            "\u001b[?25l  Downloading https://files.pythonhosted.org/packages/8b/1d/82826443777dd4a624e38a08957b975e75df859b381ae302cfd7a30783ed/bcrypt-3.1.7-cp34-abi3-manylinux1_x86_64.whl (56kB)\n",
            "\u001b[K     |████████████████████████████████| 61kB 4.8MB/s \n",
            "\u001b[?25hCollecting pynacl>=1.0.1\n",
            "\u001b[?25l  Downloading https://files.pythonhosted.org/packages/9d/57/2f5e6226a674b2bcb6db531e8b383079b678df5b10cdaa610d6cf20d77ba/PyNaCl-1.4.0-cp35-abi3-manylinux1_x86_64.whl (961kB)\n",
            "\u001b[K     |████████████████████████████████| 962kB 37.1MB/s \n",
            "\u001b[?25hRequirement already satisfied: py>=1.5.0 in /usr/local/lib/python3.6/dist-packages (from pytest->autogluon) (1.9.0)\n",
            "Requirement already satisfied: more-itertools>=4.0.0 in /usr/local/lib/python3.6/dist-packages (from pytest->autogluon) (8.4.0)\n",
            "Requirement already satisfied: attrs>=17.4.0 in /usr/local/lib/python3.6/dist-packages (from pytest->autogluon) (19.3.0)\n",
            "Requirement already satisfied: atomicwrites>=1.0 in /usr/local/lib/python3.6/dist-packages (from pytest->autogluon) (1.4.0)\n",
            "Requirement already satisfied: pluggy<0.8,>=0.5 in /usr/local/lib/python3.6/dist-packages (from pytest->autogluon) (0.7.1)\n",
            "Collecting pyaml>=16.9\n",
            "  Downloading https://files.pythonhosted.org/packages/15/c4/1310a054d33abc318426a956e7d6df0df76a6ddfa9c66f6310274fb75d42/pyaml-20.4.0-py2.py3-none-any.whl\n",
            "Requirement already satisfied: joblib>=0.11 in /usr/local/lib/python3.6/dist-packages (from scikit-optimize->autogluon) (0.16.0)\n",
            "Requirement already satisfied: botocore<1.18.0,>=1.17.33 in /usr/local/lib/python3.6/dist-packages (from boto3->autogluon) (1.17.33)\n",
            "Requirement already satisfied: s3transfer<0.4.0,>=0.3.0 in /usr/local/lib/python3.6/dist-packages (from boto3->autogluon) (0.3.3)\n",
            "Requirement already satisfied: jmespath<1.0.0,>=0.7.1 in /usr/local/lib/python3.6/dist-packages (from boto3->autogluon) (0.10.0)\n",
            "Requirement already satisfied: decorator>=4.3.0 in /usr/local/lib/python3.6/dist-packages (from networkx<3.0,>=2.3->autogluon) (4.4.2)\n",
            "Collecting liac-arff>=2.4.0\n",
            "  Downloading https://files.pythonhosted.org/packages/e9/35/fbc9217cfa91d98888b43e1a19c03a50d716108c58494c558c65e308f372/liac-arff-2.4.0.tar.gz\n",
            "Collecting xmltodict\n",
            "  Downloading https://files.pythonhosted.org/packages/28/fd/30d5c1d3ac29ce229f6bdc40bbc20b28f716e8b363140c26eff19122d8a5/xmltodict-0.12.0-py2.py3-none-any.whl\n",
            "Collecting typing\n",
            "\u001b[?25l  Downloading https://files.pythonhosted.org/packages/05/d9/6eebe19d46bd05360c9a9aae822e67a80f9242aabbfc58b641b957546607/typing-3.7.4.3.tar.gz (78kB)\n",
            "\u001b[K     |████████████████████████████████| 81kB 6.0MB/s \n",
            "\u001b[?25hRequirement already satisfied: pytz>=2017.2 in /usr/local/lib/python3.6/dist-packages (from pandas<1.0,>=0.24.0->autogluon) (2018.9)\n",
            "Requirement already satisfied: cffi!=1.11.3,>=1.8 in /usr/local/lib/python3.6/dist-packages (from cryptography>=2.8->autogluon) (1.14.1)\n",
            "Requirement already satisfied: retrying>=1.3.3 in /usr/local/lib/python3.6/dist-packages (from plotly->catboost<0.24->autogluon) (1.3.3)\n",
            "Requirement already satisfied: heapdict in /usr/local/lib/python3.6/dist-packages (from zict>=0.1.3->distributed>=2.6.0->autogluon) (1.0.1)\n",
            "Collecting immutables>=0.9\n",
            "\u001b[?25l  Downloading https://files.pythonhosted.org/packages/99/e0/ea6fd4697120327d26773b5a84853f897a68e33d3f9376b00a8ff96e4f63/immutables-0.14-cp36-cp36m-manylinux1_x86_64.whl (98kB)\n",
            "\u001b[K     |████████████████████████████████| 102kB 6.7MB/s \n",
            "\u001b[?25hRequirement already satisfied: docutils<0.16,>=0.10 in /usr/local/lib/python3.6/dist-packages (from botocore<1.18.0,>=1.17.33->boto3->autogluon) (0.15.2)\n",
            "Requirement already satisfied: pycparser in /usr/local/lib/python3.6/dist-packages (from cffi!=1.11.3,>=1.8->cryptography>=2.8->autogluon) (2.20)\n",
            "Building wheels for collected packages: openml, ConfigSpace, contextvars, liac-arff, typing\n",
            "  Building wheel for openml (setup.py) ... \u001b[?25l\u001b[?25hdone\n",
            "  Created wheel for openml: filename=openml-0.10.2-cp36-none-any.whl size=190318 sha256=c8f999364ec0beda13cccdd370eacbca4135ac7db390383147dce8cbf8729de0\n",
            "  Stored in directory: /root/.cache/pip/wheels/71/ec/5f/aaad9e184680b0b8f1a02ff0ec640cace5adf5bff7bb0af1b4\n",
            "  Building wheel for ConfigSpace (setup.py) ... \u001b[?25l\u001b[?25hdone\n",
            "  Created wheel for ConfigSpace: filename=ConfigSpace-0.4.10-cp36-cp36m-linux_x86_64.whl size=2712245 sha256=a49a0614feff0e008a0c929e37457f5c67dca86ad0a64b3f9e072322d14e5121\n",
            "  Stored in directory: /root/.cache/pip/wheels/75/83/cb/28dd42bac69c8867d485138030daa83841c7f84afe68b2fdf7\n",
            "  Building wheel for contextvars (setup.py) ... \u001b[?25l\u001b[?25hdone\n",
            "  Created wheel for contextvars: filename=contextvars-2.4-cp36-none-any.whl size=7666 sha256=a504b0e9b294fdc9097122ad48199fe260356751b41b926893d32bdce8e12971\n",
            "  Stored in directory: /root/.cache/pip/wheels/a5/7d/68/1ebae2668bda2228686e3c1cf16f2c2384cea6e9334ad5f6de\n",
            "  Building wheel for liac-arff (setup.py) ... \u001b[?25l\u001b[?25hdone\n",
            "  Created wheel for liac-arff: filename=liac_arff-2.4.0-cp36-none-any.whl size=13335 sha256=7a47c537dad337e836e50909af072aa2387afc1e555c436c8517a79f6cc10673\n",
            "  Stored in directory: /root/.cache/pip/wheels/d1/6a/e7/529dc54d76ecede4346164a09ae3168df358945612710f5203\n",
            "  Building wheel for typing (setup.py) ... \u001b[?25l\u001b[?25hdone\n",
            "  Created wheel for typing: filename=typing-3.7.4.3-cp36-none-any.whl size=26309 sha256=45183de7936044a3cbf2338e52de755b8666dc7669c381f6a5b7aea4f564d711\n",
            "  Stored in directory: /root/.cache/pip/wheels/2d/04/41/8e1836e79581989c22eebac3f4e70aaac9af07b0908da173be\n",
            "Successfully built openml ConfigSpace contextvars liac-arff typing\n",
            "\u001b[31mERROR: tensorflow-probability 0.11.0 has requirement cloudpickle==1.3, but you'll have cloudpickle 1.5.0 which is incompatible.\u001b[0m\n",
            "\u001b[31mERROR: gym 0.17.2 has requirement cloudpickle<1.4.0,>=1.2.0, but you'll have cloudpickle 1.5.0 which is incompatible.\u001b[0m\n",
            "\u001b[31mERROR: google-colab 1.0.0 has requirement pandas~=1.0.0; python_version >= \"3.0\", but you'll have pandas 0.25.3 which is incompatible.\u001b[0m\n",
            "\u001b[31mERROR: albumentations 0.1.12 has requirement imgaug<0.2.7,>=0.2.5, but you'll have imgaug 0.2.9 which is incompatible.\u001b[0m\n",
            "Installing collected packages: pandas, catboost, cloudpickle, immutables, contextvars, distributed, portalocker, Pillow, gluoncv, cryptography, bcrypt, pynacl, paramiko, pyaml, scikit-optimize, liac-arff, xmltodict, openml, lightgbm, typing, ConfigSpace, autogluon\n",
            "  Found existing installation: pandas 1.0.5\n",
            "    Uninstalling pandas-1.0.5:\n",
            "      Successfully uninstalled pandas-1.0.5\n",
            "  Found existing installation: cloudpickle 1.3.0\n",
            "    Uninstalling cloudpickle-1.3.0:\n",
            "      Successfully uninstalled cloudpickle-1.3.0\n",
            "  Found existing installation: distributed 1.25.3\n",
            "    Uninstalling distributed-1.25.3:\n",
            "      Successfully uninstalled distributed-1.25.3\n",
            "  Found existing installation: Pillow 7.0.0\n",
            "    Uninstalling Pillow-7.0.0:\n",
            "      Successfully uninstalled Pillow-7.0.0\n",
            "  Found existing installation: lightgbm 2.2.3\n",
            "    Uninstalling lightgbm-2.2.3:\n",
            "      Successfully uninstalled lightgbm-2.2.3\n",
            "Successfully installed ConfigSpace-0.4.10 Pillow-6.2.1 autogluon-0.0.12 bcrypt-3.1.7 catboost-0.23.2 cloudpickle-1.5.0 contextvars-2.4 cryptography-3.0 distributed-2.22.0 gluoncv-0.7.0 immutables-0.14 liac-arff-2.4.0 lightgbm-2.3.1 openml-0.10.2 pandas-0.25.3 paramiko-2.7.1 portalocker-2.0.0 pyaml-20.4.0 pynacl-1.4.0 scikit-optimize-0.7.4 typing-3.7.4.3 xmltodict-0.12.0\n"
          ],
          "name": "stdout"
        },
        {
          "output_type": "display_data",
          "data": {
            "application/vnd.colab-display-data+json": {
              "pip_warning": {
                "packages": [
                  "PIL",
                  "pandas",
                  "typing"
                ]
              }
            }
          },
          "metadata": {
            "tags": []
          }
        }
      ]
    },
    {
      "cell_type": "code",
      "metadata": {
        "id": "ODv6lWOc4bDV",
        "colab_type": "code",
        "colab": {}
      },
      "source": [
        "import autogluon as ag\n",
        "from autogluon import TabularPrediction as task\n",
        "import pandas as pd\n",
        "import numpy as np\n",
        "from sklearn.model_selection import GroupKFold\n",
        "import gc\n",
        "import math\n",
        "import os\n",
        "import glob"
      ],
      "execution_count": 1,
      "outputs": []
    },
    {
      "cell_type": "code",
      "metadata": {
        "id": "xh0qF2xr2qQK",
        "colab_type": "code",
        "colab": {
          "base_uri": "https://localhost:8080/",
          "height": 122
        },
        "outputId": "a766b904-9ab5-4c7f-cdac-f4a55dea1ef4"
      },
      "source": [
        "from google.colab import drive\n",
        "drive.mount('/content/drive')"
      ],
      "execution_count": 2,
      "outputs": [
        {
          "output_type": "stream",
          "text": [
            "Go to this URL in a browser: https://accounts.google.com/o/oauth2/auth?client_id=947318989803-6bn6qk8qdgf4n4g3pfee6491hc0brc4i.apps.googleusercontent.com&redirect_uri=urn%3aietf%3awg%3aoauth%3a2.0%3aoob&response_type=code&scope=email%20https%3a%2f%2fwww.googleapis.com%2fauth%2fdocs.test%20https%3a%2f%2fwww.googleapis.com%2fauth%2fdrive%20https%3a%2f%2fwww.googleapis.com%2fauth%2fdrive.photos.readonly%20https%3a%2f%2fwww.googleapis.com%2fauth%2fpeopleapi.readonly\n",
            "\n",
            "Enter your authorization code:\n",
            "··········\n",
            "Mounted at /content/drive\n"
          ],
          "name": "stdout"
        }
      ]
    },
    {
      "cell_type": "code",
      "metadata": {
        "id": "XzaVeoP44f-E",
        "colab_type": "code",
        "colab": {
          "base_uri": "https://localhost:8080/",
          "height": 224
        },
        "outputId": "bdced9f5-a503-46a5-fc5c-491f5a65c56b"
      },
      "source": [
        "df = pd.read_csv(r\"Train.csv\")\n",
        "df.head()"
      ],
      "execution_count": null,
      "outputs": [
        {
          "output_type": "execute_result",
          "data": {
            "text/html": [
              "<div>\n",
              "<style scoped>\n",
              "    .dataframe tbody tr th:only-of-type {\n",
              "        vertical-align: middle;\n",
              "    }\n",
              "\n",
              "    .dataframe tbody tr th {\n",
              "        vertical-align: top;\n",
              "    }\n",
              "\n",
              "    .dataframe thead th {\n",
              "        text-align: right;\n",
              "    }\n",
              "</style>\n",
              "<table border=\"1\" class=\"dataframe\">\n",
              "  <thead>\n",
              "    <tr style=\"text-align: right;\">\n",
              "      <th></th>\n",
              "      <th>Unique</th>\n",
              "      <th>Id</th>\n",
              "      <th>Day</th>\n",
              "      <th>Lat</th>\n",
              "      <th>Lon</th>\n",
              "      <th>Elevation</th>\n",
              "      <th>Emissions</th>\n",
              "      <th>Forest</th>\n",
              "      <th>Roads</th>\n",
              "      <th>Streets</th>\n",
              "      <th>Plumes_High</th>\n",
              "      <th>Plumes_Med</th>\n",
              "      <th>Plumes_Low</th>\n",
              "      <th>Max_Temp</th>\n",
              "      <th>Max_Wind</th>\n",
              "      <th>Precip</th>\n",
              "      <th>Rel_Humidity</th>\n",
              "      <th>Wind_Dir</th>\n",
              "      <th>BLH</th>\n",
              "      <th>AOD</th>\n",
              "      <th>PM</th>\n",
              "    </tr>\n",
              "  </thead>\n",
              "  <tbody>\n",
              "    <tr>\n",
              "      <th>0</th>\n",
              "      <td>1131_1</td>\n",
              "      <td>1131</td>\n",
              "      <td>1</td>\n",
              "      <td>36.840574</td>\n",
              "      <td>-121.366314</td>\n",
              "      <td>122.986002</td>\n",
              "      <td>0.0</td>\n",
              "      <td>0</td>\n",
              "      <td>0.0</td>\n",
              "      <td>0.191756</td>\n",
              "      <td>0</td>\n",
              "      <td>0</td>\n",
              "      <td>0</td>\n",
              "      <td>53.4</td>\n",
              "      <td>5.3</td>\n",
              "      <td>0.0</td>\n",
              "      <td>67.0</td>\n",
              "      <td>251.0</td>\n",
              "      <td>758.111816</td>\n",
              "      <td>NaN</td>\n",
              "      <td>3.7</td>\n",
              "    </tr>\n",
              "    <tr>\n",
              "      <th>1</th>\n",
              "      <td>1131_100</td>\n",
              "      <td>1131</td>\n",
              "      <td>100</td>\n",
              "      <td>36.840574</td>\n",
              "      <td>-121.366314</td>\n",
              "      <td>122.986002</td>\n",
              "      <td>0.0</td>\n",
              "      <td>0</td>\n",
              "      <td>0.0</td>\n",
              "      <td>0.191756</td>\n",
              "      <td>0</td>\n",
              "      <td>0</td>\n",
              "      <td>0</td>\n",
              "      <td>64.1</td>\n",
              "      <td>3.6</td>\n",
              "      <td>0.0</td>\n",
              "      <td>48.0</td>\n",
              "      <td>308.0</td>\n",
              "      <td>1155.824219</td>\n",
              "      <td>NaN</td>\n",
              "      <td>2.6</td>\n",
              "    </tr>\n",
              "    <tr>\n",
              "      <th>2</th>\n",
              "      <td>1131_101</td>\n",
              "      <td>1131</td>\n",
              "      <td>101</td>\n",
              "      <td>36.840574</td>\n",
              "      <td>-121.366314</td>\n",
              "      <td>122.986002</td>\n",
              "      <td>0.0</td>\n",
              "      <td>0</td>\n",
              "      <td>0.0</td>\n",
              "      <td>0.191756</td>\n",
              "      <td>0</td>\n",
              "      <td>0</td>\n",
              "      <td>0</td>\n",
              "      <td>62.7</td>\n",
              "      <td>5.1</td>\n",
              "      <td>0.0</td>\n",
              "      <td>64.0</td>\n",
              "      <td>200.0</td>\n",
              "      <td>1162.292725</td>\n",
              "      <td>NaN</td>\n",
              "      <td>2.9</td>\n",
              "    </tr>\n",
              "    <tr>\n",
              "      <th>3</th>\n",
              "      <td>1131_102</td>\n",
              "      <td>1131</td>\n",
              "      <td>102</td>\n",
              "      <td>36.840574</td>\n",
              "      <td>-121.366314</td>\n",
              "      <td>122.986002</td>\n",
              "      <td>0.0</td>\n",
              "      <td>0</td>\n",
              "      <td>0.0</td>\n",
              "      <td>0.191756</td>\n",
              "      <td>0</td>\n",
              "      <td>0</td>\n",
              "      <td>0</td>\n",
              "      <td>67.7</td>\n",
              "      <td>7.9</td>\n",
              "      <td>0.0</td>\n",
              "      <td>68.0</td>\n",
              "      <td>221.0</td>\n",
              "      <td>263.273407</td>\n",
              "      <td>NaN</td>\n",
              "      <td>0.5</td>\n",
              "    </tr>\n",
              "    <tr>\n",
              "      <th>4</th>\n",
              "      <td>1131_104</td>\n",
              "      <td>1131</td>\n",
              "      <td>104</td>\n",
              "      <td>36.840574</td>\n",
              "      <td>-121.366314</td>\n",
              "      <td>122.986002</td>\n",
              "      <td>0.0</td>\n",
              "      <td>0</td>\n",
              "      <td>0.0</td>\n",
              "      <td>0.191756</td>\n",
              "      <td>0</td>\n",
              "      <td>0</td>\n",
              "      <td>0</td>\n",
              "      <td>60.1</td>\n",
              "      <td>6.5</td>\n",
              "      <td>0.0</td>\n",
              "      <td>44.0</td>\n",
              "      <td>314.0</td>\n",
              "      <td>1268.919434</td>\n",
              "      <td>0.097667</td>\n",
              "      <td>2.4</td>\n",
              "    </tr>\n",
              "  </tbody>\n",
              "</table>\n",
              "</div>"
            ],
            "text/plain": [
              "     Unique    Id  Day        Lat  ...  Wind_Dir          BLH       AOD   PM\n",
              "0    1131_1  1131    1  36.840574  ...     251.0   758.111816       NaN  3.7\n",
              "1  1131_100  1131  100  36.840574  ...     308.0  1155.824219       NaN  2.6\n",
              "2  1131_101  1131  101  36.840574  ...     200.0  1162.292725       NaN  2.9\n",
              "3  1131_102  1131  102  36.840574  ...     221.0   263.273407       NaN  0.5\n",
              "4  1131_104  1131  104  36.840574  ...     314.0  1268.919434  0.097667  2.4\n",
              "\n",
              "[5 rows x 21 columns]"
            ]
          },
          "metadata": {
            "tags": []
          },
          "execution_count": 3
        }
      ]
    },
    {
      "cell_type": "code",
      "metadata": {
        "id": "n85bjAIOCDai",
        "colab_type": "code",
        "colab": {}
      },
      "source": [
        "def bias(true, pred):\n",
        "  return (pred-true).mean()\n",
        "\n",
        "def r2(true, pred):\n",
        "  numerator = ((pred - pred.mean())*(true - true.mean())).sum()\n",
        "  sd1 = math.sqrt(sum(np.square(pred - pred.mean())))\n",
        "  sd2 = math.sqrt(sum(np.square(true - true.mean())))\n",
        "  return np.square(numerator/(sd1*sd2))\n",
        "\n",
        "def nse(true, pred):\n",
        "  return 1 - sum(np.square(pred - true))/sum(np.square(true - true.mean()))\n",
        "\n",
        "def mae(true, pred):\n",
        "  return ((pred - true).abs()).mean()\n",
        "\n",
        "def mse(true, pred):\n",
        "  return np.square(pred - true).mean()\n",
        "\n",
        "def rmse(true, pred):\n",
        "  return math.sqrt(np.square(pred - true).mean())"
      ],
      "execution_count": null,
      "outputs": []
    },
    {
      "cell_type": "code",
      "metadata": {
        "id": "DdKl8JCLwyP2",
        "colab_type": "code",
        "colab": {}
      },
      "source": [
        "def cv(hyperparameters):\n",
        "  n_fold = len(set(df['Id']))\n",
        "  kf = GroupKFold(n_fold)\n",
        "  split = kf.split(df, groups = df['Id'])\n",
        "\n",
        "  metric_df = pd.DataFrame(columns = ['station', 'MAE', 'MSE', 'RMSE', 'NSE', 'Bias', 'R2'])\n",
        "\n",
        "  for i, (train_idx, test_idx) in enumerate(split):\n",
        "    print(f'Starting training fold {i}.')\n",
        "    _ = gc.collect()\n",
        "\n",
        "    features = ['Day', 'Lat', 'Lon', 'Elevation', 'Emissions', 'Forest',\n",
        "        'Roads', 'Streets', 'Plumes_High', 'Plumes_Med', 'Plumes_Low',\n",
        "        'Max_Temp', 'Max_Wind', 'Precip', 'Rel_Humidity', 'Wind_Dir', 'BLH',\n",
        "        'AOD']\n",
        "    label_column = 'PM'\n",
        "\n",
        "    X = df[features]\n",
        "    y = df[label_column]\n",
        "\n",
        "    train_data = task.Dataset(pd.concat([X.loc[train_idx], y.loc[train_idx]], axis=1))\n",
        "    test_data = task.Dataset(pd.concat([X.loc[test_idx], y.loc[test_idx]], axis=1))\n",
        "\n",
        "    predictor = task.fit(train_data=train_data, \n",
        "                         label=label_column, \n",
        "                         hyperparameters=hyperparameters, \n",
        "                         # time_limits = 60*3,\n",
        "                         # hyperparameter_tune=True, \n",
        "                         eval_metric='r2')\n",
        "\n",
        "    y_test = test_data[label_column]\n",
        "    # print(\"Actual: \", y_test)\n",
        "    test_data_nolab = test_data.drop(labels = [label_column], axis = 1)\n",
        "\n",
        "    y_pred = predictor.predict(test_data_nolab)\n",
        "    # print(\"Predictions: \", y_pred)\n",
        "\n",
        "    # perf = predictor.evaluate_predictions(y_true = y_test, y_pred = y_pred, auxiliary_metrics = True)\n",
        "    station = df.loc[test_idx]['Id'].iloc[0]\n",
        "    MAE = mae(y_test, y_pred)\n",
        "    MSE = mse(y_test, y_pred)\n",
        "    RMSE = rmse(y_test, y_pred)\n",
        "    NSE = nse(y_test, y_pred)\n",
        "    BIAS = bias(y_test, y_pred)\n",
        "    R2 = r2(y_test, y_pred)\n",
        "\n",
        "    metric_df = metric_df.append({'station': station, 'MAE': MAE, 'MSE': MSE , 'RMSE': RMSE, 'NSE': NSE, 'Bias': BIAS, 'R2':R2}, ignore_index = True)\n",
        "\n",
        "  return metric_df"
      ],
      "execution_count": null,
      "outputs": []
    },
    {
      "cell_type": "code",
      "metadata": {
        "id": "a-QEKi-TG99W",
        "colab_type": "code",
        "colab": {}
      },
      "source": [
        "# The defaults: \n",
        "# 'NN': [{}]\n",
        "# 'GBM': [{}]\n",
        "# 'CAT': [{}]\n",
        "# 'RF': [{'criterion': 'mse', 'AG_args': {'name_suffix': 'MSE', 'problem_types': ['regression']}}]\n",
        "# 'XT': [{'criterion': 'mse', 'AG_args': {'name_suffix': 'MSE', 'problem_types': ['regression']}}]\n",
        "# 'KNN': [{'weights': 'uniform', 'AG_args': {'name_suffix': 'Unif'}}, {'weights': 'distance', 'AG_args': {'name_suffix': 'Dist'}}]\n",
        "# 'custom': [{'num_boost_round': 10000, 'num_threads': -1, 'objective': 'regression', 'verbose': -1, 'boosting_type': 'gbdt', 'learning_rate': 0.03, 'num_leaves': 128, 'feature_fraction': 0.9, 'min_data_in_leaf': 5, 'two_round': True, 'seed_value': 0, 'AG_args': {'model_type': 'GBM', 'name_suffix': 'Custom', 'disable_in_hpo': True}}]}}\n",
        "\n",
        "CAT = cv({'CAT': {}})\n",
        "CAT.to_csv(\"/content/drive/My Drive/NASA PM_estimation/CAT1.csv\", index = False)"
      ],
      "execution_count": null,
      "outputs": []
    },
    {
      "cell_type": "code",
      "metadata": {
        "id": "VOmPOfW25BYV",
        "colab_type": "code",
        "colab": {}
      },
      "source": [
        "NN = cv({'NN': {}})\n",
        "NN.to_csv(\"/content/drive/My Drive/NASA PM_estimation/NN.csv\", index = False)"
      ],
      "execution_count": null,
      "outputs": []
    },
    {
      "cell_type": "code",
      "metadata": {
        "id": "0RL1UqSi5Yj2",
        "colab_type": "code",
        "colab": {}
      },
      "source": [
        "GBM = cv({'GBM': {}})\n",
        "GBM.to_csv(\"/content/drive/My Drive/NASA PM_estimation/GBM.csv\", index = False)"
      ],
      "execution_count": null,
      "outputs": []
    },
    {
      "cell_type": "code",
      "metadata": {
        "id": "D1K-ULAW5Zwe",
        "colab_type": "code",
        "colab": {}
      },
      "source": [
        "RF = cv({'RF': {'criterion': 'mse', 'AG_args': {'name_suffix': 'MSE', 'problem_types': ['regression']}}})\n",
        "RF.to_csv(\"/content/drive/My Drive/NASA PM_estimation/RF.csv\", index = False)"
      ],
      "execution_count": null,
      "outputs": []
    },
    {
      "cell_type": "code",
      "metadata": {
        "id": "SvzmvYxY5a0w",
        "colab_type": "code",
        "colab": {}
      },
      "source": [
        "XT = cv({'XT': [{'criterion': 'mse', 'AG_args': {'name_suffix': 'MSE', 'problem_types': ['regression']}}]})\n",
        "XT.to_csv(\"/content/drive/My Drive/NASA PM_estimation/XT.csv\", index = False)"
      ],
      "execution_count": null,
      "outputs": []
    },
    {
      "cell_type": "code",
      "metadata": {
        "id": "_Ks5CvTt5cX5",
        "colab_type": "code",
        "colab": {}
      },
      "source": [
        "KNNunif = cv({'KNN': [{'weights': 'uniform', 'AG_args': {'name_suffix': 'Unif'}}]})\n",
        "KNNunif.to_csv(\"/content/drive/My Drive/NASA PM_estimation/KNNunif.csv\", index = False)"
      ],
      "execution_count": null,
      "outputs": []
    },
    {
      "cell_type": "code",
      "metadata": {
        "id": "VHWGqEv25dmR",
        "colab_type": "code",
        "colab": {}
      },
      "source": [
        "KNNdist = cv({'KNN': [{'weights': 'distance', 'AG_args': {'name_suffix': 'Dist'}}]})\n",
        "KNNdist.to_csv(\"/content/drive/My Drive/NASA PM_estimation/KNNdist.csv\", index = False)"
      ],
      "execution_count": null,
      "outputs": []
    },
    {
      "cell_type": "code",
      "metadata": {
        "id": "mXoBHzvB5esR",
        "colab_type": "code",
        "colab": {}
      },
      "source": [
        "GBMcustom = cv({'custom': [{'num_boost_round': 10000, 'num_threads': -1, 'objective': 'regression', 'verbose': -1, 'boosting_type': 'gbdt', 'learning_rate': 0.03, 'num_leaves': 128, 'feature_fraction': 0.9, 'min_data_in_leaf': 5, 'two_round': True, 'seed_value': 0, 'AG_args': {'model_type': 'GBM', 'name_suffix': 'Custom', 'disable_in_hpo': True}}]})\n",
        "GBMcustom.to_csv(\"/content/drive/My Drive/NASA PM_estimation/GMBcustom.csv\", index = False)"
      ],
      "execution_count": null,
      "outputs": []
    },
    {
      "cell_type": "code",
      "metadata": {
        "id": "R7-rvks3ELYU",
        "colab_type": "code",
        "colab": {}
      },
      "source": [
        "Averages = pd.DataFrame(columns = ['Model', 'MAE', 'MSE', 'RMSE', 'NSE', 'Bias', 'R2'])\n",
        "\n",
        "paths = glob.glob(\"/content/drive/My Drive/NASA PM_estimation/*.csv\")\n",
        "\n",
        "for path in paths:\n",
        "  f = os.path.split(path)[1]\n",
        "  Model = os.path.splitext(f)[0]\n",
        "  Table = pd.read_csv(path)\n",
        "  MAE = Table['MAE'].mean()\n",
        "  MSE = Table['MSE'].mean()\n",
        "  RMSE = Table['RMSE'].mean()\n",
        "  NSE = Table['NSE'].mean()\n",
        "  BIAS = Table['Bias'].mean()\n",
        "  R2 = Table['R2'].mean()\n",
        "  Averages = Averages.append({'Model': Model, 'MAE': MAE, 'MSE': MSE , 'RMSE': RMSE, 'NSE': NSE, 'Bias': BIAS, 'R2':R2}, ignore_index = True)\n",
        "\n",
        "Averages.to_csv(\"/content/drive/My Drive/NASA PM_estimation/means/ModelMeans.csv\", index = False)"
      ],
      "execution_count": 3,
      "outputs": []
    },
    {
      "cell_type": "code",
      "metadata": {
        "id": "-0fLc3mB-I8P",
        "colab_type": "code",
        "colab": {
          "base_uri": "https://localhost:8080/",
          "height": 170
        },
        "outputId": "86cf3a0e-3fe0-48c2-c250-1bb1ecca046e"
      },
      "source": [
        "small_ids = pd.read_csv(\"Small_Ids.csv\")['x']\n",
        "small_ids = [float(i) for i in small_ids]\n",
        "\n",
        "Averages = pd.DataFrame(columns = ['Model', 'MAE', 'MSE', 'RMSE', 'NSE', 'Bias', 'R2'])\n",
        "\n",
        "paths = glob.glob(\"/content/drive/My Drive/NASA PM_estimation/*.csv\")\n",
        "\n",
        "for path in paths:\n",
        "  f = os.path.split(path)[1]\n",
        "  Model = os.path.splitext(f)[0]\n",
        "  print(Model)\n",
        "  Table = pd.read_csv(path)\n",
        "  ##FILTER SO ONLY SMALL\n",
        "  # print(Table['station'])\n",
        "  # print(small_ids['x'])\n",
        "  Table = Table[Table['station'].isin(small_ids)]\n",
        "  MAE = Table['MAE'].mean()\n",
        "  MSE = Table['MSE'].mean()\n",
        "  RMSE = Table['RMSE'].mean()\n",
        "  NSE = Table['NSE'].mean()\n",
        "  BIAS = Table['Bias'].mean()\n",
        "  R2 = Table['R2'].mean()\n",
        "  Averages = Averages.append({'Model': Model, 'MAE': MAE, 'MSE': MSE , 'RMSE': RMSE, 'NSE': NSE, 'Bias': BIAS, 'R2':R2}, ignore_index = True)\n",
        "\n",
        "Averages.to_csv(\"/content/drive/My Drive/NASA PM_estimation/means/SmallGridModelMeans.csv\", index = False)"
      ],
      "execution_count": null,
      "outputs": [
        {
          "output_type": "stream",
          "text": [
            "CAT\n",
            "GBM\n",
            "NN\n",
            "RF\n",
            "NN_tune\n",
            "KNNunif\n",
            "KNNdist\n",
            "GMBcustom\n",
            "XT\n"
          ],
          "name": "stdout"
        }
      ]
    }
  ]
}