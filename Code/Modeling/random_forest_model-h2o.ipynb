{
 "cells": [
  {
   "cell_type": "code",
   "execution_count": 29,
   "metadata": {},
   "outputs": [
    {
     "name": "stdout",
     "output_type": "stream",
     "text": [
      "The autoreload extension is already loaded. To reload it, use:\n",
      "  %reload_ext autoreload\n"
     ]
    }
   ],
   "source": [
    "%load_ext autoreload\n",
    "%autoreload 2\n",
    "\n",
    "import pandas as pd\n",
    "import numpy as np\n",
    "import matplotlib.pyplot as plt\n",
    "\n",
    "plt.style.use('seaborn-poster')\n",
    "%matplotlib inline"
   ]
  },
  {
   "cell_type": "code",
   "execution_count": 30,
   "metadata": {},
   "outputs": [],
   "source": [
    "#df = pd.read_csv(\"C:\\\\Users\\\\aboser\\\\Documents\\\\GitHub\\\\PM_prediction\\\\Data\\\\Final_DFs\\\\Train.csv\")\n",
    "df = pd.read_csv(r\"C:\\Users\\phili\\Documents\\Anna-Project\\PM_prediction\\Data\\Final_DFs\\Train.csv\")\n",
    "\n",
    "# remove NaN's VVVVV (this somehow lowers the r2 score significantly!!!)\n",
    "\n",
    "#df = df.dropna()\n",
    "#df = df.reset_index()\n",
    "\n",
    "### VVV reduces ability of forest :( don't use\n",
    "#from sklearn.impute import SimpleImputer\n",
    "#imp = SimpleImputer(strategy=\"most_frequent\")\n",
    "#df = pd.DataFrame(imp.fit_transform(df),columns=df.columns)\n",
    "# day_dummies = pd.get_dummies(df['Day'])\n",
    "# df = pd.concat([df,day_dummies], axis = 1)"
   ]
  },
  {
   "cell_type": "code",
   "execution_count": 31,
   "metadata": {},
   "outputs": [
    {
     "data": {
      "text/html": [
       "<div>\n",
       "<style scoped>\n",
       "    .dataframe tbody tr th:only-of-type {\n",
       "        vertical-align: middle;\n",
       "    }\n",
       "\n",
       "    .dataframe tbody tr th {\n",
       "        vertical-align: top;\n",
       "    }\n",
       "\n",
       "    .dataframe thead th {\n",
       "        text-align: right;\n",
       "    }\n",
       "</style>\n",
       "<table border=\"1\" class=\"dataframe\">\n",
       "  <thead>\n",
       "    <tr style=\"text-align: right;\">\n",
       "      <th></th>\n",
       "      <th>Unique</th>\n",
       "      <th>Id</th>\n",
       "      <th>Day</th>\n",
       "      <th>Lat</th>\n",
       "      <th>Lon</th>\n",
       "      <th>Elevation</th>\n",
       "      <th>Emissions</th>\n",
       "      <th>Forest</th>\n",
       "      <th>Roads</th>\n",
       "      <th>Streets</th>\n",
       "      <th>...</th>\n",
       "      <th>Plumes_Med</th>\n",
       "      <th>Plumes_Low</th>\n",
       "      <th>Max_Temp</th>\n",
       "      <th>Precip</th>\n",
       "      <th>Rel_Humidity</th>\n",
       "      <th>Wind_Dir</th>\n",
       "      <th>BLH</th>\n",
       "      <th>AOD</th>\n",
       "      <th>PM</th>\n",
       "      <th>Max_Wind</th>\n",
       "    </tr>\n",
       "  </thead>\n",
       "  <tbody>\n",
       "    <tr>\n",
       "      <th>0</th>\n",
       "      <td>1131_1</td>\n",
       "      <td>1131</td>\n",
       "      <td>1</td>\n",
       "      <td>36.840574</td>\n",
       "      <td>-121.366314</td>\n",
       "      <td>122.986002</td>\n",
       "      <td>0.0</td>\n",
       "      <td>0</td>\n",
       "      <td>0.0</td>\n",
       "      <td>0.191756</td>\n",
       "      <td>...</td>\n",
       "      <td>0</td>\n",
       "      <td>0</td>\n",
       "      <td>53.4</td>\n",
       "      <td>0.0</td>\n",
       "      <td>67.0</td>\n",
       "      <td>251.0</td>\n",
       "      <td>758.111816</td>\n",
       "      <td>NaN</td>\n",
       "      <td>3.7</td>\n",
       "      <td>-999.0</td>\n",
       "    </tr>\n",
       "    <tr>\n",
       "      <th>1</th>\n",
       "      <td>1131_100</td>\n",
       "      <td>1131</td>\n",
       "      <td>100</td>\n",
       "      <td>36.840574</td>\n",
       "      <td>-121.366314</td>\n",
       "      <td>122.986002</td>\n",
       "      <td>0.0</td>\n",
       "      <td>0</td>\n",
       "      <td>0.0</td>\n",
       "      <td>0.191756</td>\n",
       "      <td>...</td>\n",
       "      <td>0</td>\n",
       "      <td>0</td>\n",
       "      <td>64.1</td>\n",
       "      <td>0.0</td>\n",
       "      <td>48.0</td>\n",
       "      <td>308.0</td>\n",
       "      <td>1155.824219</td>\n",
       "      <td>NaN</td>\n",
       "      <td>2.6</td>\n",
       "      <td>-999.0</td>\n",
       "    </tr>\n",
       "    <tr>\n",
       "      <th>2</th>\n",
       "      <td>1131_101</td>\n",
       "      <td>1131</td>\n",
       "      <td>101</td>\n",
       "      <td>36.840574</td>\n",
       "      <td>-121.366314</td>\n",
       "      <td>122.986002</td>\n",
       "      <td>0.0</td>\n",
       "      <td>0</td>\n",
       "      <td>0.0</td>\n",
       "      <td>0.191756</td>\n",
       "      <td>...</td>\n",
       "      <td>0</td>\n",
       "      <td>0</td>\n",
       "      <td>62.7</td>\n",
       "      <td>0.0</td>\n",
       "      <td>64.0</td>\n",
       "      <td>200.0</td>\n",
       "      <td>1162.292725</td>\n",
       "      <td>NaN</td>\n",
       "      <td>2.9</td>\n",
       "      <td>-999.0</td>\n",
       "    </tr>\n",
       "    <tr>\n",
       "      <th>3</th>\n",
       "      <td>1131_102</td>\n",
       "      <td>1131</td>\n",
       "      <td>102</td>\n",
       "      <td>36.840574</td>\n",
       "      <td>-121.366314</td>\n",
       "      <td>122.986002</td>\n",
       "      <td>0.0</td>\n",
       "      <td>0</td>\n",
       "      <td>0.0</td>\n",
       "      <td>0.191756</td>\n",
       "      <td>...</td>\n",
       "      <td>0</td>\n",
       "      <td>0</td>\n",
       "      <td>67.7</td>\n",
       "      <td>0.0</td>\n",
       "      <td>68.0</td>\n",
       "      <td>221.0</td>\n",
       "      <td>263.273407</td>\n",
       "      <td>NaN</td>\n",
       "      <td>0.5</td>\n",
       "      <td>-999.0</td>\n",
       "    </tr>\n",
       "    <tr>\n",
       "      <th>4</th>\n",
       "      <td>1131_104</td>\n",
       "      <td>1131</td>\n",
       "      <td>104</td>\n",
       "      <td>36.840574</td>\n",
       "      <td>-121.366314</td>\n",
       "      <td>122.986002</td>\n",
       "      <td>0.0</td>\n",
       "      <td>0</td>\n",
       "      <td>0.0</td>\n",
       "      <td>0.191756</td>\n",
       "      <td>...</td>\n",
       "      <td>0</td>\n",
       "      <td>0</td>\n",
       "      <td>60.1</td>\n",
       "      <td>0.0</td>\n",
       "      <td>44.0</td>\n",
       "      <td>314.0</td>\n",
       "      <td>1268.919434</td>\n",
       "      <td>0.097667</td>\n",
       "      <td>2.4</td>\n",
       "      <td>-999.0</td>\n",
       "    </tr>\n",
       "  </tbody>\n",
       "</table>\n",
       "<p>5 rows × 21 columns</p>\n",
       "</div>"
      ],
      "text/plain": [
       "     Unique    Id  Day        Lat         Lon   Elevation  Emissions  Forest  \\\n",
       "0    1131_1  1131    1  36.840574 -121.366314  122.986002        0.0       0   \n",
       "1  1131_100  1131  100  36.840574 -121.366314  122.986002        0.0       0   \n",
       "2  1131_101  1131  101  36.840574 -121.366314  122.986002        0.0       0   \n",
       "3  1131_102  1131  102  36.840574 -121.366314  122.986002        0.0       0   \n",
       "4  1131_104  1131  104  36.840574 -121.366314  122.986002        0.0       0   \n",
       "\n",
       "   Roads   Streets  ...  Plumes_Med  Plumes_Low  Max_Temp  Precip  \\\n",
       "0    0.0  0.191756  ...           0           0      53.4     0.0   \n",
       "1    0.0  0.191756  ...           0           0      64.1     0.0   \n",
       "2    0.0  0.191756  ...           0           0      62.7     0.0   \n",
       "3    0.0  0.191756  ...           0           0      67.7     0.0   \n",
       "4    0.0  0.191756  ...           0           0      60.1     0.0   \n",
       "\n",
       "   Rel_Humidity  Wind_Dir          BLH       AOD   PM  Max_Wind  \n",
       "0          67.0     251.0   758.111816       NaN  3.7    -999.0  \n",
       "1          48.0     308.0  1155.824219       NaN  2.6    -999.0  \n",
       "2          64.0     200.0  1162.292725       NaN  2.9    -999.0  \n",
       "3          68.0     221.0   263.273407       NaN  0.5    -999.0  \n",
       "4          44.0     314.0  1268.919434  0.097667  2.4    -999.0  \n",
       "\n",
       "[5 rows x 21 columns]"
      ]
     },
     "execution_count": 31,
     "metadata": {},
     "output_type": "execute_result"
    }
   ],
   "source": [
    "df.head()"
   ]
  },
  {
   "cell_type": "code",
   "execution_count": 32,
   "metadata": {},
   "outputs": [
    {
     "data": {
      "text/plain": [
       "Index(['Unique', 'Id', 'Day', 'Lat', 'Lon', 'Elevation', 'Emissions', 'Forest',\n",
       "       'Roads', 'Streets', 'Plumes_High', 'Plumes_Med', 'Plumes_Low',\n",
       "       'Max_Temp', 'Precip', 'Rel_Humidity', 'Wind_Dir', 'BLH', 'AOD', 'PM',\n",
       "       'Max_Wind'],\n",
       "      dtype='object')"
      ]
     },
     "execution_count": 32,
     "metadata": {},
     "output_type": "execute_result"
    }
   ],
   "source": [
    "df.columns"
   ]
  },
  {
   "cell_type": "code",
   "execution_count": 33,
   "metadata": {},
   "outputs": [],
   "source": [
    "features = ['Day', 'Elevation', 'Emissions', 'Forest', 'Roads', 'Streets', 'Plumes_High', \n",
    "            'Plumes_Med', 'Plumes_Low', 'Max_Temp', 'Max_Wind', 'Precip', 'Rel_Humidity', \n",
    "            'Wind_Dir', 'BLH', 'AOD']\n",
    "\n",
    "'''\n",
    "!!!!!!!!!!!!!!!!!!!!!!!!!!!!!!!!!!!!!!!\n",
    "Don't forget to implement this later!!!\n",
    "!!!!!!!!!!!!!!!!!!!!!!!!!!!!!!!!!!!!!!!\n",
    "vvvvvvvvvvvvvvvvvvvvvvvvvvvvvvvvvvvvvvv\n",
    "'''\n",
    "cat_features = [0, 3, 6, 7, 8]\n",
    "'''\n",
    "^^^^^^^^^^^^^^^^^^^^^^^^^^^^^^^^^^^^^^^\n",
    "!!!!!!!!!!!!!!!!!!!!!!!!!!!!!!!!!!!!!!!\n",
    "'''\n",
    "target_col = 'PM'"
   ]
  },
  {
   "cell_type": "code",
   "execution_count": 34,
   "metadata": {},
   "outputs": [
    {
     "data": {
      "text/plain": [
       "<matplotlib.axes._subplots.AxesSubplot at 0x263e8db06a0>"
      ]
     },
     "execution_count": 34,
     "metadata": {},
     "output_type": "execute_result"
    },
    {
     "data": {
      "image/png": "[encoded data removed]",
      "text/plain": [
       "<Figure size 432x288 with 1 Axes>"
      ]
     },
     "metadata": {
      "needs_background": "light"
     },
     "output_type": "display_data"
    }
   ],
   "source": [
    "df['PM'].hist(bins=20)"
   ]
  },
  {
   "cell_type": "code",
   "execution_count": 35,
   "metadata": {},
   "outputs": [
    {
     "name": "stdout",
     "output_type": "stream",
     "text": [
      "Checking whether there is an H2O instance running at http://localhost:54321 . connected.\n"
     ]
    },
    {
     "data": {
      "text/html": [
       "<div style=\"overflow:auto\"><table style=\"width:50%\"><tr><td>H2O_cluster_uptime:</td>\n",
       "<td>10 hours 47 mins</td></tr>\n",
       "<tr><td>H2O_cluster_timezone:</td>\n",
       "<td>America/Los_Angeles</td></tr>\n",
       "<tr><td>H2O_data_parsing_timezone:</td>\n",
       "<td>UTC</td></tr>\n",
       "<tr><td>H2O_cluster_version:</td>\n",
       "<td>3.30.0.7</td></tr>\n",
       "<tr><td>H2O_cluster_version_age:</td>\n",
       "<td>7 days, 7 hours and 53 minutes </td></tr>\n",
       "<tr><td>H2O_cluster_name:</td>\n",
       "<td>H2O_from_python_phili_1cokxf</td></tr>\n",
       "<tr><td>H2O_cluster_total_nodes:</td>\n",
       "<td>1</td></tr>\n",
       "<tr><td>H2O_cluster_free_memory:</td>\n",
       "<td>7.950 Gb</td></tr>\n",
       "<tr><td>H2O_cluster_total_cores:</td>\n",
       "<td>12</td></tr>\n",
       "<tr><td>H2O_cluster_allowed_cores:</td>\n",
       "<td>12</td></tr>\n",
       "<tr><td>H2O_cluster_status:</td>\n",
       "<td>locked, healthy</td></tr>\n",
       "<tr><td>H2O_connection_url:</td>\n",
       "<td>http://localhost:54321</td></tr>\n",
       "<tr><td>H2O_connection_proxy:</td>\n",
       "<td>{\"http\": null, \"https\": null}</td></tr>\n",
       "<tr><td>H2O_internal_security:</td>\n",
       "<td>False</td></tr>\n",
       "<tr><td>H2O_API_Extensions:</td>\n",
       "<td>Amazon S3, Algos, AutoML, Core V3, TargetEncoder, Core V4</td></tr>\n",
       "<tr><td>Python_version:</td>\n",
       "<td>3.8.3 final</td></tr></table></div>"
      ],
      "text/plain": [
       "--------------------------  ---------------------------------------------------------\n",
       "H2O_cluster_uptime:         10 hours 47 mins\n",
       "H2O_cluster_timezone:       America/Los_Angeles\n",
       "H2O_data_parsing_timezone:  UTC\n",
       "H2O_cluster_version:        3.30.0.7\n",
       "H2O_cluster_version_age:    7 days, 7 hours and 53 minutes\n",
       "H2O_cluster_name:           H2O_from_python_phili_1cokxf\n",
       "H2O_cluster_total_nodes:    1\n",
       "H2O_cluster_free_memory:    7.950 Gb\n",
       "H2O_cluster_total_cores:    12\n",
       "H2O_cluster_allowed_cores:  12\n",
       "H2O_cluster_status:         locked, healthy\n",
       "H2O_connection_url:         http://localhost:54321\n",
       "H2O_connection_proxy:       {\"http\": null, \"https\": null}\n",
       "H2O_internal_security:      False\n",
       "H2O_API_Extensions:         Amazon S3, Algos, AutoML, Core V3, TargetEncoder, Core V4\n",
       "Python_version:             3.8.3 final\n",
       "--------------------------  ---------------------------------------------------------"
      ]
     },
     "metadata": {},
     "output_type": "display_data"
    },
    {
     "name": "stdout",
     "output_type": "stream",
     "text": [
      "Connecting to H2O server at http://localhost:54321 ... successful.\n"
     ]
    },
    {
     "data": {
      "text/html": [
       "<div style=\"overflow:auto\"><table style=\"width:50%\"><tr><td>H2O_cluster_uptime:</td>\n",
       "<td>10 hours 47 mins</td></tr>\n",
       "<tr><td>H2O_cluster_timezone:</td>\n",
       "<td>America/Los_Angeles</td></tr>\n",
       "<tr><td>H2O_data_parsing_timezone:</td>\n",
       "<td>UTC</td></tr>\n",
       "<tr><td>H2O_cluster_version:</td>\n",
       "<td>3.30.0.7</td></tr>\n",
       "<tr><td>H2O_cluster_version_age:</td>\n",
       "<td>7 days, 7 hours and 53 minutes </td></tr>\n",
       "<tr><td>H2O_cluster_name:</td>\n",
       "<td>H2O_from_python_phili_1cokxf</td></tr>\n",
       "<tr><td>H2O_cluster_total_nodes:</td>\n",
       "<td>1</td></tr>\n",
       "<tr><td>H2O_cluster_free_memory:</td>\n",
       "<td>7.950 Gb</td></tr>\n",
       "<tr><td>H2O_cluster_total_cores:</td>\n",
       "<td>12</td></tr>\n",
       "<tr><td>H2O_cluster_allowed_cores:</td>\n",
       "<td>12</td></tr>\n",
       "<tr><td>H2O_cluster_status:</td>\n",
       "<td>locked, healthy</td></tr>\n",
       "<tr><td>H2O_connection_url:</td>\n",
       "<td>http://localhost:54321</td></tr>\n",
       "<tr><td>H2O_connection_proxy:</td>\n",
       "<td>{\"http\": null, \"https\": null}</td></tr>\n",
       "<tr><td>H2O_internal_security:</td>\n",
       "<td>False</td></tr>\n",
       "<tr><td>H2O_API_Extensions:</td>\n",
       "<td>Amazon S3, Algos, AutoML, Core V3, TargetEncoder, Core V4</td></tr>\n",
       "<tr><td>Python_version:</td>\n",
       "<td>3.8.3 final</td></tr></table></div>"
      ],
      "text/plain": [
       "--------------------------  ---------------------------------------------------------\n",
       "H2O_cluster_uptime:         10 hours 47 mins\n",
       "H2O_cluster_timezone:       America/Los_Angeles\n",
       "H2O_data_parsing_timezone:  UTC\n",
       "H2O_cluster_version:        3.30.0.7\n",
       "H2O_cluster_version_age:    7 days, 7 hours and 53 minutes\n",
       "H2O_cluster_name:           H2O_from_python_phili_1cokxf\n",
       "H2O_cluster_total_nodes:    1\n",
       "H2O_cluster_free_memory:    7.950 Gb\n",
       "H2O_cluster_total_cores:    12\n",
       "H2O_cluster_allowed_cores:  12\n",
       "H2O_cluster_status:         locked, healthy\n",
       "H2O_connection_url:         http://localhost:54321\n",
       "H2O_connection_proxy:       {\"http\": null, \"https\": null}\n",
       "H2O_internal_security:      False\n",
       "H2O_API_Extensions:         Amazon S3, Algos, AutoML, Core V3, TargetEncoder, Core V4\n",
       "Python_version:             3.8.3 final\n",
       "--------------------------  ---------------------------------------------------------"
      ]
     },
     "metadata": {},
     "output_type": "display_data"
    },
    {
     "data": {
      "text/plain": [
       "<H2OConnection to http://localhost:54321, no session>"
      ]
     },
     "execution_count": 35,
     "metadata": {},
     "output_type": "execute_result"
    }
   ],
   "source": [
    "import h2o\n",
    "from h2o.estimators import H2ORandomForestEstimator\n",
    "h2o.init()\n",
    "h2o.connect()"
   ]
  },
  {
   "cell_type": "code",
   "execution_count": null,
   "metadata": {},
   "outputs": [
    {
     "name": "stdout",
     "output_type": "stream",
     "text": [
      "Starting training fold 0.\n",
      "Parse progress: |█████████████████████████████████████████████████████████| 100%\n",
      "Parse progress: |█████████████████████████████████████████████████████████| 100%\n",
      "drf Model Build progress: |███████████████████████████████████████████████"
     ]
    }
   ],
   "source": [
    "import gc\n",
    "import sklearn\n",
    "from sklearn.ensemble import RandomForestClassifier\n",
    "from sklearn.model_selection import GroupKFold\n",
    "\n",
    "\n",
    "X = df[features]\n",
    "y = df[target_col]\n",
    "y=y.astype('int')\n",
    "\n",
    "n_fold = 10\n",
    "\n",
    "kf = GroupKFold(n_fold)\n",
    "split = kf.split(X=X, y=y, groups=df['Id'])\n",
    "\n",
    "n_boost_rounds = 1000\n",
    "early_stopping_rounds = 200\n",
    "\n",
    "train_pred = np.zeros((len(y)))\n",
    "feature_importance_df = pd.DataFrame()\n",
    "models = []\n",
    "\n",
    "for i, (train_idx, test_idx) in enumerate(split):\n",
    "    print(f'Starting training fold {i}.')\n",
    "    _ = gc.collect()\n",
    "\n",
    "    predictors= features\n",
    "    response= target_col\n",
    "    train= h2o.H2OFrame(pd.concat([X.loc[train_idx],  y.loc[train_idx]], axis=1, sort=False))\n",
    "    valid= h2o.H2OFrame(pd.concat([X.loc[test_idx],  y.loc[test_idx]], axis=1, sort=False))\n",
    "    \n",
    "    rf_train = H2ORandomForestEstimator(ntrees=500,\n",
    "                                    max_depth = 30,\n",
    "                                    sample_rate=1,\n",
    "                                    #verbose=True,\n",
    "                                    binomial_double_trees=True)\n",
    "    \n",
    "    rf_train.train(x=predictors,\n",
    "               y=response,\n",
    "               training_frame=train,\n",
    "               validation_frame=valid)\n",
    "\n",
    "    #models.append(model)\n",
    "    prediction = rf_train.predict(valid).as_data_frame().to_numpy()\n",
    "    prediction = prediction.reshape(prediction.shape[0],)\n",
    "    print(prediction.shape)\n",
    "    train_pred[test_idx] = prediction\n",
    "    \n",
    "    fold_importance_df = pd.DataFrame()\n",
    "    fold_importance_df[\"feature\"] = features\n",
    "    #fold_importance_df[\"importance\"] = model.feature_importance(importance_type='gain',iteration=model.best_iteration)\n",
    "    fold_importance_df[\"fold\"] = i + 1\n",
    "    feature_importance_df = pd.concat([feature_importance_df, fold_importance_df], axis=0)\n",
    "    '''\n",
    "    rf_train = sklearn.ensemble.RandomForestClassifier()\n",
    "    model = rf_train.fit(X.loc[train_idx],y.loc[train_idx])\n",
    "    models.append(model)\n",
    "    \n",
    "    train_pred[test_idx] = model.predict(X.loc[test_idx])    \n",
    "    fold_importance_df = pd.DataFrame()\n",
    "    fold_importance_df[\"feature\"] = features\n",
    "    #fold_importance_df[\"importance\"] = model.feature_importance(importance_type='gain',iteration=model.best_iteration)\n",
    "    fold_importance_df[\"fold\"] = i + 1\n",
    "    feature_importance_df = pd.concat([feature_importance_df, fold_importance_df], axis=0)\n",
    "    \n",
    "    '''"
   ]
  },
  {
   "cell_type": "code",
   "execution_count": 55,
   "metadata": {},
   "outputs": [
    {
     "data": {
      "text/plain": [
       "0.635714779797264"
      ]
     },
     "execution_count": 55,
     "metadata": {},
     "output_type": "execute_result"
    }
   ],
   "source": [
    "from sklearn.metrics import r2_score\n",
    "\n",
    "r2_score(y_true=df['PM'], y_pred=train_pred)"
   ]
  },
  {
   "cell_type": "code",
   "execution_count": 19,
   "metadata": {},
   "outputs": [
    {
     "ename": "SyntaxError",
     "evalue": "invalid syntax (<ipython-input-19-6d66a2857015>, line 2)",
     "output_type": "error",
     "traceback": [
      "\u001b[1;36m  File \u001b[1;32m\"<ipython-input-19-6d66a2857015>\"\u001b[1;36m, line \u001b[1;32m2\u001b[0m\n\u001b[1;33m    y = df[target_col])\u001b[0m\n\u001b[1;37m    ^\u001b[0m\n\u001b[1;31mSyntaxError\u001b[0m\u001b[1;31m:\u001b[0m invalid syntax\n"
     ]
    }
   ],
   "source": []
  },
  {
   "cell_type": "code",
   "execution_count": null,
   "metadata": {},
   "outputs": [],
   "source": []
  }
 ],
 "metadata": {
  "kernelspec": {
   "display_name": "mlvenv",
   "language": "python",
   "name": "mlvenv"
  },
  "language_info": {
   "codemirror_mode": {
    "name": "ipython",
    "version": 3
   },
   "file_extension": ".py",
   "mimetype": "text/x-python",
   "name": "python",
   "nbconvert_exporter": "python",
   "pygments_lexer": "ipython3",
   "version": "3.8.3"
  }
 },
 "nbformat": 4,
 "nbformat_minor": 4
}
