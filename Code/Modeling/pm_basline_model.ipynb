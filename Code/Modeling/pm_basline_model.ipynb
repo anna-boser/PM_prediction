{
 "cells": [
  {
   "cell_type": "code",
   "execution_count": 3,
   "metadata": {},
   "outputs": [
    {
     "name": "stdout",
     "output_type": "stream",
     "text": [
      "The autoreload extension is already loaded. To reload it, use:\n",
      "  %reload_ext autoreload\n"
     ]
    }
   ],
   "source": [
    "%load_ext autoreload\n",
    "%autoreload 2\n",
    "\n",
    "import pandas as pd\n",
    "import numpy as np\n",
    "import matplotlib.pyplot as plt\n",
    "\n",
    "plt.style.use('seaborn-poster')\n",
    "%matplotlib inline"
   ]
  },
  {
   "cell_type": "code",
   "execution_count": 4,
   "metadata": {},
   "outputs": [],
   "source": [
    "df = pd.read_csv(\"C:\\\\Users\\\\aboser\\\\Documents\\\\GitHub\\\\PM_prediction\\\\Data\\\\Final_DFs\\\\Train.csv\")"
   ]
  },
  {
   "cell_type": "code",
   "execution_count": 5,
   "metadata": {},
   "outputs": [
    {
     "data": {
      "text/html": [
       "<div>\n",
       "<style scoped>\n",
       "    .dataframe tbody tr th:only-of-type {\n",
       "        vertical-align: middle;\n",
       "    }\n",
       "\n",
       "    .dataframe tbody tr th {\n",
       "        vertical-align: top;\n",
       "    }\n",
       "\n",
       "    .dataframe thead th {\n",
       "        text-align: right;\n",
       "    }\n",
       "</style>\n",
       "<table border=\"1\" class=\"dataframe\">\n",
       "  <thead>\n",
       "    <tr style=\"text-align: right;\">\n",
       "      <th></th>\n",
       "      <th>Unnamed: 0</th>\n",
       "      <th>Unique</th>\n",
       "      <th>Id</th>\n",
       "      <th>Day</th>\n",
       "      <th>Elevation</th>\n",
       "      <th>Emissions</th>\n",
       "      <th>Forest</th>\n",
       "      <th>Roads</th>\n",
       "      <th>Streets</th>\n",
       "      <th>Plumes_High</th>\n",
       "      <th>Plumes_Med</th>\n",
       "      <th>Plumes_Low</th>\n",
       "      <th>Max_Temp</th>\n",
       "      <th>Max_Wind</th>\n",
       "      <th>Precip</th>\n",
       "      <th>Rel_Humidity</th>\n",
       "      <th>Wind_Dir</th>\n",
       "      <th>BLH</th>\n",
       "      <th>AOD</th>\n",
       "      <th>PM</th>\n",
       "    </tr>\n",
       "  </thead>\n",
       "  <tbody>\n",
       "    <tr>\n",
       "      <th>0</th>\n",
       "      <td>1</td>\n",
       "      <td>1131_1</td>\n",
       "      <td>1131</td>\n",
       "      <td>1</td>\n",
       "      <td>122.986002</td>\n",
       "      <td>0.0</td>\n",
       "      <td>0</td>\n",
       "      <td>0.0</td>\n",
       "      <td>0.191756</td>\n",
       "      <td>0</td>\n",
       "      <td>0</td>\n",
       "      <td>0</td>\n",
       "      <td>53.4</td>\n",
       "      <td>5.3</td>\n",
       "      <td>0.0</td>\n",
       "      <td>67.0</td>\n",
       "      <td>251.0</td>\n",
       "      <td>NaN</td>\n",
       "      <td>NaN</td>\n",
       "      <td>3.7</td>\n",
       "    </tr>\n",
       "    <tr>\n",
       "      <th>1</th>\n",
       "      <td>2</td>\n",
       "      <td>1131_100</td>\n",
       "      <td>1131</td>\n",
       "      <td>100</td>\n",
       "      <td>122.986002</td>\n",
       "      <td>0.0</td>\n",
       "      <td>0</td>\n",
       "      <td>0.0</td>\n",
       "      <td>0.191756</td>\n",
       "      <td>0</td>\n",
       "      <td>0</td>\n",
       "      <td>0</td>\n",
       "      <td>64.1</td>\n",
       "      <td>3.6</td>\n",
       "      <td>0.0</td>\n",
       "      <td>48.0</td>\n",
       "      <td>308.0</td>\n",
       "      <td>1155.824219</td>\n",
       "      <td>NaN</td>\n",
       "      <td>2.6</td>\n",
       "    </tr>\n",
       "    <tr>\n",
       "      <th>2</th>\n",
       "      <td>3</td>\n",
       "      <td>1131_101</td>\n",
       "      <td>1131</td>\n",
       "      <td>101</td>\n",
       "      <td>122.986002</td>\n",
       "      <td>0.0</td>\n",
       "      <td>0</td>\n",
       "      <td>0.0</td>\n",
       "      <td>0.191756</td>\n",
       "      <td>0</td>\n",
       "      <td>0</td>\n",
       "      <td>0</td>\n",
       "      <td>62.7</td>\n",
       "      <td>5.1</td>\n",
       "      <td>0.0</td>\n",
       "      <td>64.0</td>\n",
       "      <td>200.0</td>\n",
       "      <td>1162.292725</td>\n",
       "      <td>NaN</td>\n",
       "      <td>2.9</td>\n",
       "    </tr>\n",
       "    <tr>\n",
       "      <th>3</th>\n",
       "      <td>4</td>\n",
       "      <td>1131_102</td>\n",
       "      <td>1131</td>\n",
       "      <td>102</td>\n",
       "      <td>122.986002</td>\n",
       "      <td>0.0</td>\n",
       "      <td>0</td>\n",
       "      <td>0.0</td>\n",
       "      <td>0.191756</td>\n",
       "      <td>0</td>\n",
       "      <td>0</td>\n",
       "      <td>0</td>\n",
       "      <td>67.7</td>\n",
       "      <td>7.9</td>\n",
       "      <td>0.0</td>\n",
       "      <td>68.0</td>\n",
       "      <td>221.0</td>\n",
       "      <td>263.273407</td>\n",
       "      <td>NaN</td>\n",
       "      <td>0.5</td>\n",
       "    </tr>\n",
       "    <tr>\n",
       "      <th>4</th>\n",
       "      <td>5</td>\n",
       "      <td>1131_104</td>\n",
       "      <td>1131</td>\n",
       "      <td>104</td>\n",
       "      <td>122.986002</td>\n",
       "      <td>0.0</td>\n",
       "      <td>0</td>\n",
       "      <td>0.0</td>\n",
       "      <td>0.191756</td>\n",
       "      <td>0</td>\n",
       "      <td>0</td>\n",
       "      <td>0</td>\n",
       "      <td>60.1</td>\n",
       "      <td>6.5</td>\n",
       "      <td>0.0</td>\n",
       "      <td>44.0</td>\n",
       "      <td>314.0</td>\n",
       "      <td>1268.919434</td>\n",
       "      <td>0.097667</td>\n",
       "      <td>2.4</td>\n",
       "    </tr>\n",
       "  </tbody>\n",
       "</table>\n",
       "</div>"
      ],
      "text/plain": [
       "   Unnamed: 0    Unique    Id  Day   Elevation  Emissions  Forest  Roads  \\\n",
       "0           1    1131_1  1131    1  122.986002        0.0       0    0.0   \n",
       "1           2  1131_100  1131  100  122.986002        0.0       0    0.0   \n",
       "2           3  1131_101  1131  101  122.986002        0.0       0    0.0   \n",
       "3           4  1131_102  1131  102  122.986002        0.0       0    0.0   \n",
       "4           5  1131_104  1131  104  122.986002        0.0       0    0.0   \n",
       "\n",
       "    Streets  Plumes_High  Plumes_Med  Plumes_Low  Max_Temp  Max_Wind  Precip  \\\n",
       "0  0.191756            0           0           0      53.4       5.3     0.0   \n",
       "1  0.191756            0           0           0      64.1       3.6     0.0   \n",
       "2  0.191756            0           0           0      62.7       5.1     0.0   \n",
       "3  0.191756            0           0           0      67.7       7.9     0.0   \n",
       "4  0.191756            0           0           0      60.1       6.5     0.0   \n",
       "\n",
       "   Rel_Humidity  Wind_Dir          BLH       AOD   PM  \n",
       "0          67.0     251.0          NaN       NaN  3.7  \n",
       "1          48.0     308.0  1155.824219       NaN  2.6  \n",
       "2          64.0     200.0  1162.292725       NaN  2.9  \n",
       "3          68.0     221.0   263.273407       NaN  0.5  \n",
       "4          44.0     314.0  1268.919434  0.097667  2.4  "
      ]
     },
     "execution_count": 5,
     "metadata": {},
     "output_type": "execute_result"
    }
   ],
   "source": [
    "df.head()"
   ]
  },
  {
   "cell_type": "code",
   "execution_count": 6,
   "metadata": {},
   "outputs": [
    {
     "data": {
      "text/plain": [
       "Index(['Unnamed: 0', 'Unique', 'Id', 'Day', 'Elevation', 'Emissions', 'Forest',\n",
       "       'Roads', 'Streets', 'Plumes_High', 'Plumes_Med', 'Plumes_Low',\n",
       "       'Max_Temp', 'Max_Wind', 'Precip', 'Rel_Humidity', 'Wind_Dir', 'BLH',\n",
       "       'AOD', 'PM'],\n",
       "      dtype='object')"
      ]
     },
     "execution_count": 6,
     "metadata": {},
     "output_type": "execute_result"
    }
   ],
   "source": [
    "df.columns"
   ]
  },
  {
   "cell_type": "code",
   "execution_count": 7,
   "metadata": {},
   "outputs": [],
   "source": [
    "features = ['Day', 'Elevation', 'Emissions', 'Forest', 'Roads', 'Streets', 'Plumes_High', \n",
    "            'Plumes_Med', 'Plumes_Low', 'Max_Temp', 'Max_Wind', 'Precip', 'Rel_Humidity', \n",
    "            'Wind_Dir', 'BLH', 'AOD']\n",
    "\n",
    "cat_features = [0, 3, 6, 7, 8]\n",
    "\n",
    "target_col = 'PM'"
   ]
  },
  {
   "cell_type": "code",
   "execution_count": 8,
   "metadata": {},
   "outputs": [
    {
     "data": {
      "text/plain": [
       "<matplotlib.axes._subplots.AxesSubplot at 0xea1ad70>"
      ]
     },
     "execution_count": 8,
     "metadata": {},
     "output_type": "execute_result"
    },
    {
     "data": {
      "image/png": "[encoded data removed]",
      "text/plain": [
       "<Figure size 432x288 with 1 Axes>"
      ]
     },
     "metadata": {
      "needs_background": "light"
     },
     "output_type": "display_data"
    }
   ],
   "source": [
    "df['PM'].hist(bins=20)"
   ]
  },
  {
   "cell_type": "code",
   "execution_count": 11,
   "metadata": {},
   "outputs": [
    {
     "ename": "ModuleNotFoundError",
     "evalue": "No module named 'lightgbm'",
     "output_type": "error",
     "traceback": [
      "\u001b[1;31m---------------------------------------------------------------------------\u001b[0m",
      "\u001b[1;31mModuleNotFoundError\u001b[0m                       Traceback (most recent call last)",
      "\u001b[1;32m<ipython-input-11-f8794748e7f3>\u001b[0m in \u001b[0;36m<module>\u001b[1;34m\u001b[0m\n\u001b[0;32m      1\u001b[0m \u001b[1;32mimport\u001b[0m \u001b[0mgc\u001b[0m\u001b[1;33m\u001b[0m\u001b[1;33m\u001b[0m\u001b[0m\n\u001b[0;32m      2\u001b[0m \u001b[1;33m\u001b[0m\u001b[0m\n\u001b[1;32m----> 3\u001b[1;33m \u001b[1;32mimport\u001b[0m \u001b[0mlightgbm\u001b[0m \u001b[1;32mas\u001b[0m \u001b[0mlgb\u001b[0m\u001b[1;33m\u001b[0m\u001b[1;33m\u001b[0m\u001b[0m\n\u001b[0m\u001b[0;32m      4\u001b[0m \u001b[1;33m\u001b[0m\u001b[0m\n\u001b[0;32m      5\u001b[0m \u001b[1;32mfrom\u001b[0m \u001b[0msklearn\u001b[0m\u001b[1;33m.\u001b[0m\u001b[0mmodel_selection\u001b[0m \u001b[1;32mimport\u001b[0m \u001b[0mGroupKFold\u001b[0m\u001b[1;33m\u001b[0m\u001b[1;33m\u001b[0m\u001b[0m\n",
      "\u001b[1;31mModuleNotFoundError\u001b[0m: No module named 'lightgbm'"
     ]
    }
   ],
   "source": [
    "import gc\n",
    "\n",
    "import lightgbm as lgb\n",
    "\n",
    "from sklearn.model_selection import GroupKFold\n",
    "\n",
    "\n",
    "X = df[features]\n",
    "y = df[target_col]\n",
    "\n",
    "n_fold = 5\n",
    "\n",
    "kf = GroupKFold(n_fold)\n",
    "split = kf.split(X=X, y=y, groups=df['Id'])\n",
    "\n",
    "\n",
    "params = {\n",
    "    'task': 'train',\n",
    "    'boosting_type': 'gbdt',\n",
    "    'objective': 'regression',\n",
    "    'metric': ['l2', 'rmse'],\n",
    "    'learning_rate': 0.1,\n",
    "    'feature_fraction': 0.9,\n",
    "    'bagging_fraction': 0.7,\n",
    "    'bagging_freq': 10,\n",
    "    'verbose': 0,\n",
    "    \"max_depth\": 4,\n",
    "    \"num_leaves\": 16,\n",
    "    \"num_iterations\": 1000,\n",
    "    \"n_estimators\": 1000,\n",
    "    \"categorical_feature\": cat_features\n",
    "}\n",
    "\n",
    "n_boost_rounds = 1000\n",
    "early_stopping_rounds = 200\n",
    "\n",
    "train_pred = np.zeros((len(y)))\n",
    "feature_importance_df = pd.DataFrame()\n",
    "models = []\n",
    "\n",
    "for i, (train_idx, test_idx) in enumerate(split):\n",
    "    print(f'Starting training fold {i}.')\n",
    "    _ = gc.collect()\n",
    "\n",
    "    lgb_train = lgb.Dataset(X.loc[train_idx],\n",
    "                            label=y.loc[train_idx])\n",
    "    lgb_val = lgb.Dataset(X.loc[test_idx],\n",
    "                          label=y.loc[test_idx])\n",
    "\n",
    "    model = lgb.train(params,\n",
    "                      lgb_train,\n",
    "                      valid_sets=[lgb_train, lgb_val],\n",
    "                      valid_names=['train', 'val'],\n",
    "                      num_boost_round=n_boost_rounds,\n",
    "                      early_stopping_rounds=early_stopping_rounds,\n",
    "                      verbose_eval=100)\n",
    "\n",
    "    models.append(model)\n",
    "\n",
    "    train_pred[test_idx] = model.predict(X.loc[test_idx], num_iteration=model.best_iteration)\n",
    "\n",
    "    fold_importance_df = pd.DataFrame()\n",
    "    fold_importance_df[\"feature\"] = features\n",
    "    fold_importance_df[\"importance\"] = model.feature_importance(importance_type='gain', \n",
    "                                                                iteration=model.best_iteration)\n",
    "    fold_importance_df[\"fold\"] = i + 1\n",
    "    feature_importance_df = pd.concat([feature_importance_df, fold_importance_df], axis=0)"
   ]
  },
  {
   "cell_type": "code",
   "execution_count": 12,
   "metadata": {},
   "outputs": [
    {
     "ename": "NameError",
     "evalue": "name 'train_pred' is not defined",
     "output_type": "error",
     "traceback": [
      "\u001b[1;31m---------------------------------------------------------------------------\u001b[0m",
      "\u001b[1;31mNameError\u001b[0m                                 Traceback (most recent call last)",
      "\u001b[1;32m<ipython-input-12-491f2de69e01>\u001b[0m in \u001b[0;36m<module>\u001b[1;34m\u001b[0m\n\u001b[0;32m      1\u001b[0m \u001b[1;32mfrom\u001b[0m \u001b[0msklearn\u001b[0m\u001b[1;33m.\u001b[0m\u001b[0mmetrics\u001b[0m \u001b[1;32mimport\u001b[0m \u001b[0mr2_score\u001b[0m\u001b[1;33m\u001b[0m\u001b[1;33m\u001b[0m\u001b[0m\n\u001b[0;32m      2\u001b[0m \u001b[1;33m\u001b[0m\u001b[0m\n\u001b[1;32m----> 3\u001b[1;33m \u001b[0mr2_score\u001b[0m\u001b[1;33m(\u001b[0m\u001b[0my_true\u001b[0m\u001b[1;33m=\u001b[0m\u001b[0mdf\u001b[0m\u001b[1;33m[\u001b[0m\u001b[1;34m'PM'\u001b[0m\u001b[1;33m]\u001b[0m\u001b[1;33m,\u001b[0m \u001b[0my_pred\u001b[0m\u001b[1;33m=\u001b[0m\u001b[0mtrain_pred\u001b[0m\u001b[1;33m)\u001b[0m\u001b[1;33m\u001b[0m\u001b[1;33m\u001b[0m\u001b[0m\n\u001b[0m",
      "\u001b[1;31mNameError\u001b[0m: name 'train_pred' is not defined"
     ]
    }
   ],
   "source": [
    "from sklearn.metrics import r2_score\n",
    "\n",
    "r2_score(y_true=df['PM'], y_pred=train_pred)"
   ]
  },
  {
   "cell_type": "code",
   "execution_count": 13,
   "metadata": {},
   "outputs": [
    {
     "ename": "NameError",
     "evalue": "name 'feature_importance_df' is not defined",
     "output_type": "error",
     "traceback": [
      "\u001b[1;31m---------------------------------------------------------------------------\u001b[0m",
      "\u001b[1;31mNameError\u001b[0m                                 Traceback (most recent call last)",
      "\u001b[1;32m<ipython-input-13-6528ce9f56c3>\u001b[0m in \u001b[0;36m<module>\u001b[1;34m\u001b[0m\n\u001b[0;32m     13\u001b[0m         \u001b[0mplt\u001b[0m\u001b[1;33m.\u001b[0m\u001b[0msavefig\u001b[0m\u001b[1;33m(\u001b[0m\u001b[0msave_file_path\u001b[0m\u001b[1;33m)\u001b[0m\u001b[1;33m\u001b[0m\u001b[1;33m\u001b[0m\u001b[0m\n\u001b[0;32m     14\u001b[0m \u001b[1;33m\u001b[0m\u001b[0m\n\u001b[1;32m---> 15\u001b[1;33m \u001b[0mdisplay_importances\u001b[0m\u001b[1;33m(\u001b[0m\u001b[0mfeature_importance_df\u001b[0m\u001b[1;33m)\u001b[0m\u001b[1;33m\u001b[0m\u001b[1;33m\u001b[0m\u001b[0m\n\u001b[0m",
      "\u001b[1;31mNameError\u001b[0m: name 'feature_importance_df' is not defined"
     ]
    }
   ],
   "source": [
    "import seaborn as sns\n",
    "\n",
    "def display_importances(feature_importance_df_, save_file_path=None):\n",
    "    cols = feature_importance_df_[[\"feature\", \"importance\"]].groupby(\"feature\").mean().sort_values(by=\"importance\", ascending=False)[:40].index\n",
    "    best_features = feature_importance_df_.loc[feature_importance_df_.feature.isin(cols)]\n",
    "\n",
    "    fig = plt.figure(figsize=(14, 12))\n",
    "\n",
    "    sns.barplot(x=\"importance\", y=\"feature\", data=best_features.sort_values(by=\"importance\", ascending=False))\n",
    "    plt.title('LightGBM Features (avg over folds)')\n",
    "    plt.tight_layout()\n",
    "    if save_file_path:\n",
    "        plt.savefig(save_file_path) \n",
    "\n",
    "display_importances(feature_importance_df)"
   ]
  },
  {
   "cell_type": "code",
   "execution_count": null,
   "metadata": {},
   "outputs": [],
   "source": [
    "df[df['PM'] < 50].groupby('Forest')['PM'].hist(bins=20, alpha=0.6, density=True)"
   ]
  },
  {
   "cell_type": "code",
   "execution_count": null,
   "metadata": {},
   "outputs": [],
   "source": [
    "plt.figure(figsize=(12, 12))\n",
    "sns.heatmap(df[features].corr())"
   ]
  },
  {
   "cell_type": "code",
   "execution_count": null,
   "metadata": {},
   "outputs": [],
   "source": [
    "df.groupby('Day')['Rel_Humidity'].mean().plot()"
   ]
  },
  {
   "cell_type": "markdown",
   "metadata": {},
   "source": [
    "#### Little SHAP analysis"
   ]
  },
  {
   "cell_type": "code",
   "execution_count": null,
   "metadata": {},
   "outputs": [],
   "source": [
    "import shap\n",
    "\n",
    "shap.initjs()\n",
    "\n",
    "explainer = shap.TreeExplainer(models[2])\n",
    "shap_values = explainer.shap_values(X)\n",
    "\n",
    "shap.summary_plot(shap_values, X)"
   ]
  },
  {
   "cell_type": "code",
   "execution_count": null,
   "metadata": {},
   "outputs": [],
   "source": [
    "shap.dependence_plot(\"Elevation\", shap_values, X)"
   ]
  },
  {
   "cell_type": "code",
   "execution_count": null,
   "metadata": {},
   "outputs": [],
   "source": [
    "shap.dependence_plot(\"AOD\", shap_values, X)"
   ]
  },
  {
   "cell_type": "markdown",
   "metadata": {},
   "source": [
    "#### Conclusion from building baseline model:\n",
    "0.67 is a good starting point for an R^2 we should be able to reach.  \n",
    "\n",
    "Homework for Anna: Implement linear classifier here.  \n",
    "\n",
    "This will involve:\n",
    "1. Impute NaNs (or whatever you want to do).\n",
    "2. Dummies for categorical features.\n",
    "3. Normalize/standardize your data. (whatever the correct thing to do with linear models here is to handle skews and outliers and shit)\n",
    "4. Train."
   ]
  },
  {
   "cell_type": "code",
   "execution_count": null,
   "metadata": {},
   "outputs": [],
   "source": [
    "from sklearn.linear_model import LinearRegression\n",
    "\n",
    "clf = LinearRegression() # set params (regularize?)\n",
    "\n",
    "# how you can do grouped cross val\n",
    "X = df[features]\n",
    "y = df[target_col]\n",
    "\n",
    "n_fold = 5\n",
    "\n",
    "kf = GroupKFold(n_fold)\n",
    "split = kf.split(X=X, y=y, groups=df['Id'])\n",
    "\n",
    "for i, (train_idx, test_idx) in enumerate(split):\n",
    "    print(f'Starting training fold {i}.')\n",
    "    _ = gc.collect() # runs garbage collection (frees memory)\n",
    "\n",
    "    X_train = X.loc[train_idx] # grabbing training explamples for this fold in CV.\n",
    "    y_train = y.loc[train_idx]\n",
    "    \n",
    "    #grab validation data\n",
    "    X_val = X.loc[test_idx]\n",
    "    y_val = y.loc[test_idx]\n",
    "    \n",
    "    lgb_train = lgb.Dataset(X.loc[train_idx],\n",
    "                            label=y.loc[train_idx])\n",
    "    lgb_val = lgb.Dataset(X.loc[test_idx],\n",
    "                          label=y.loc[test_idx])"
   ]
  },
  {
   "cell_type": "code",
   "execution_count": null,
   "metadata": {},
   "outputs": [],
   "source": []
  }
 ],
 "metadata": {
  "kernelspec": {
   "display_name": "Python [conda env:root] *",
   "language": "python",
   "name": "conda-root-py"
  },
  "language_info": {
   "codemirror_mode": {
    "name": "ipython",
    "version": 3
   },
   "file_extension": ".py",
   "mimetype": "text/x-python",
   "name": "python",
   "nbconvert_exporter": "python",
   "pygments_lexer": "ipython3",
   "version": "3.7.6"
  }
 },
 "nbformat": 4,
 "nbformat_minor": 4
}
