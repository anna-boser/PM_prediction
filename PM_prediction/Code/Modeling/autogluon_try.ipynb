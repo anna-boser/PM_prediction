{
  "nbformat": 4,
  "nbformat_minor": 0,
  "metadata": {
    "colab": {
      "name": "autogluon_try.ipynb",
      "provenance": [],
      "toc_visible": true,
      "authorship_tag": "ABX9TyP0ng6ELVELOp0K1dkJW930",
      "include_colab_link": true
    },
    "kernelspec": {
      "name": "python3",
      "display_name": "Python 3"
    }
  },
  "cells": [
    {
      "cell_type": "markdown",
      "metadata": {
        "id": "view-in-github",
        "colab_type": "text"
      },
      "source": [
        "<a href=\"https://colab.research.google.com/github/anna-boser/PM_prediction/blob/master/PM_prediction/Code/Modeling/autogluon_try.ipynb\" target=\"_parent\"><img src=\"https://colab.research.google.com/assets/colab-badge.svg\" alt=\"Open In Colab\"/></a>"
      ]
    },
    {
      "cell_type": "code",
      "metadata": {
        "id": "YxDtiBQU2-tc",
        "colab_type": "code",
        "colab": {
          "base_uri": "https://localhost:8080/",
          "height": 204
        },
        "outputId": "ad1c134e-9eb1-4cec-a885-a3b05375d859"
      },
      "source": [
        "!pip install --upgrade mxnet\n",
        "!pip install autogluon\n"
      ],
      "execution_count": 29,
      "outputs": [
        {
          "output_type": "stream",
          "text": [
            "Requirement already up-to-date: mxnet in /usr/local/lib/python3.6/dist-packages (1.6.0)\n",
            "Requirement already satisfied, skipping upgrade: requests<3,>=2.20.0 in /usr/local/lib/python3.6/dist-packages (from mxnet) (2.23.0)\n",
            "Requirement already satisfied, skipping upgrade: graphviz<0.9.0,>=0.8.1 in /usr/local/lib/python3.6/dist-packages (from mxnet) (0.8.4)\n",
            "Requirement already satisfied, skipping upgrade: numpy<2.0.0,>1.16.0 in /usr/local/lib/python3.6/dist-packages (from mxnet) (1.18.5)\n",
            "Requirement already satisfied, skipping upgrade: chardet<4,>=3.0.2 in /usr/local/lib/python3.6/dist-packages (from requests<3,>=2.20.0->mxnet) (3.0.4)\n",
            "Requirement already satisfied, skipping upgrade: urllib3!=1.25.0,!=1.25.1,<1.26,>=1.21.1 in /usr/local/lib/python3.6/dist-packages (from requests<3,>=2.20.0->mxnet) (1.24.3)\n",
            "Requirement already satisfied, skipping upgrade: certifi>=2017.4.17 in /usr/local/lib/python3.6/dist-packages (from requests<3,>=2.20.0->mxnet) (2020.6.20)\n",
            "Requirement already satisfied, skipping upgrade: idna<3,>=2.5 in /usr/local/lib/python3.6/dist-packages (from requests<3,>=2.20.0->mxnet) (2.10)\n",
            "Requirement already satisfied: autogluon in /usr/local/lib/python3.6/dist-packages (0.0.12)\n",
            "\u001b[31mERROR: Could not find a version that satisfies the requirement version==0.0.1 (from versions: 0.1.0, 0.1.1)\u001b[0m\n",
            "\u001b[31mERROR: No matching distribution found for version==0.0.1\u001b[0m\n"
          ],
          "name": "stdout"
        }
      ]
    },
    {
      "cell_type": "code",
      "metadata": {
        "id": "ODv6lWOc4bDV",
        "colab_type": "code",
        "colab": {}
      },
      "source": [
        "import autogluon as ag\n",
        "from autogluon import TabularPrediction as task\n",
        "import pandas as pd\n",
        "import numpy as np"
      ],
      "execution_count": 33,
      "outputs": []
    },
    {
      "cell_type": "code",
      "metadata": {
        "id": "XzaVeoP44f-E",
        "colab_type": "code",
        "colab": {
          "base_uri": "https://localhost:8080/",
          "height": 224
        },
        "outputId": "cd27dd28-9e12-4485-a5a9-fe4625a1da31"
      },
      "source": [
        "df = pd.read_csv(r\"Train.csv\")\n",
        "df.head()"
      ],
      "execution_count": 34,
      "outputs": [
        {
          "output_type": "execute_result",
          "data": {
            "text/html": [
              "<div>\n",
              "<style scoped>\n",
              "    .dataframe tbody tr th:only-of-type {\n",
              "        vertical-align: middle;\n",
              "    }\n",
              "\n",
              "    .dataframe tbody tr th {\n",
              "        vertical-align: top;\n",
              "    }\n",
              "\n",
              "    .dataframe thead th {\n",
              "        text-align: right;\n",
              "    }\n",
              "</style>\n",
              "<table border=\"1\" class=\"dataframe\">\n",
              "  <thead>\n",
              "    <tr style=\"text-align: right;\">\n",
              "      <th></th>\n",
              "      <th>Unique</th>\n",
              "      <th>Id</th>\n",
              "      <th>Day</th>\n",
              "      <th>Lat</th>\n",
              "      <th>Lon</th>\n",
              "      <th>Elevation</th>\n",
              "      <th>Emissions</th>\n",
              "      <th>Forest</th>\n",
              "      <th>Roads</th>\n",
              "      <th>Streets</th>\n",
              "      <th>Plumes_High</th>\n",
              "      <th>Plumes_Med</th>\n",
              "      <th>Plumes_Low</th>\n",
              "      <th>Max_Temp</th>\n",
              "      <th>Precip</th>\n",
              "      <th>Rel_Humidity</th>\n",
              "      <th>Wind_Dir</th>\n",
              "      <th>BLH</th>\n",
              "      <th>AOD</th>\n",
              "      <th>PM</th>\n",
              "      <th>Max_Wind</th>\n",
              "    </tr>\n",
              "  </thead>\n",
              "  <tbody>\n",
              "    <tr>\n",
              "      <th>0</th>\n",
              "      <td>1131_1</td>\n",
              "      <td>1131</td>\n",
              "      <td>1</td>\n",
              "      <td>36.840574</td>\n",
              "      <td>-121.366314</td>\n",
              "      <td>122.986002</td>\n",
              "      <td>0.0</td>\n",
              "      <td>0</td>\n",
              "      <td>0.0</td>\n",
              "      <td>0.191756</td>\n",
              "      <td>0</td>\n",
              "      <td>0</td>\n",
              "      <td>0</td>\n",
              "      <td>53.4</td>\n",
              "      <td>0.0</td>\n",
              "      <td>67.0</td>\n",
              "      <td>251.0</td>\n",
              "      <td>758.111816</td>\n",
              "      <td>NaN</td>\n",
              "      <td>3.7</td>\n",
              "      <td>-999.0</td>\n",
              "    </tr>\n",
              "    <tr>\n",
              "      <th>1</th>\n",
              "      <td>1131_100</td>\n",
              "      <td>1131</td>\n",
              "      <td>100</td>\n",
              "      <td>36.840574</td>\n",
              "      <td>-121.366314</td>\n",
              "      <td>122.986002</td>\n",
              "      <td>0.0</td>\n",
              "      <td>0</td>\n",
              "      <td>0.0</td>\n",
              "      <td>0.191756</td>\n",
              "      <td>0</td>\n",
              "      <td>0</td>\n",
              "      <td>0</td>\n",
              "      <td>64.1</td>\n",
              "      <td>0.0</td>\n",
              "      <td>48.0</td>\n",
              "      <td>308.0</td>\n",
              "      <td>1155.824219</td>\n",
              "      <td>NaN</td>\n",
              "      <td>2.6</td>\n",
              "      <td>-999.0</td>\n",
              "    </tr>\n",
              "    <tr>\n",
              "      <th>2</th>\n",
              "      <td>1131_101</td>\n",
              "      <td>1131</td>\n",
              "      <td>101</td>\n",
              "      <td>36.840574</td>\n",
              "      <td>-121.366314</td>\n",
              "      <td>122.986002</td>\n",
              "      <td>0.0</td>\n",
              "      <td>0</td>\n",
              "      <td>0.0</td>\n",
              "      <td>0.191756</td>\n",
              "      <td>0</td>\n",
              "      <td>0</td>\n",
              "      <td>0</td>\n",
              "      <td>62.7</td>\n",
              "      <td>0.0</td>\n",
              "      <td>64.0</td>\n",
              "      <td>200.0</td>\n",
              "      <td>1162.292725</td>\n",
              "      <td>NaN</td>\n",
              "      <td>2.9</td>\n",
              "      <td>-999.0</td>\n",
              "    </tr>\n",
              "    <tr>\n",
              "      <th>3</th>\n",
              "      <td>1131_102</td>\n",
              "      <td>1131</td>\n",
              "      <td>102</td>\n",
              "      <td>36.840574</td>\n",
              "      <td>-121.366314</td>\n",
              "      <td>122.986002</td>\n",
              "      <td>0.0</td>\n",
              "      <td>0</td>\n",
              "      <td>0.0</td>\n",
              "      <td>0.191756</td>\n",
              "      <td>0</td>\n",
              "      <td>0</td>\n",
              "      <td>0</td>\n",
              "      <td>67.7</td>\n",
              "      <td>0.0</td>\n",
              "      <td>68.0</td>\n",
              "      <td>221.0</td>\n",
              "      <td>263.273407</td>\n",
              "      <td>NaN</td>\n",
              "      <td>0.5</td>\n",
              "      <td>-999.0</td>\n",
              "    </tr>\n",
              "    <tr>\n",
              "      <th>4</th>\n",
              "      <td>1131_104</td>\n",
              "      <td>1131</td>\n",
              "      <td>104</td>\n",
              "      <td>36.840574</td>\n",
              "      <td>-121.366314</td>\n",
              "      <td>122.986002</td>\n",
              "      <td>0.0</td>\n",
              "      <td>0</td>\n",
              "      <td>0.0</td>\n",
              "      <td>0.191756</td>\n",
              "      <td>0</td>\n",
              "      <td>0</td>\n",
              "      <td>0</td>\n",
              "      <td>60.1</td>\n",
              "      <td>0.0</td>\n",
              "      <td>44.0</td>\n",
              "      <td>314.0</td>\n",
              "      <td>1268.919434</td>\n",
              "      <td>0.097667</td>\n",
              "      <td>2.4</td>\n",
              "      <td>-999.0</td>\n",
              "    </tr>\n",
              "  </tbody>\n",
              "</table>\n",
              "</div>"
            ],
            "text/plain": [
              "     Unique    Id  Day        Lat  ...          BLH       AOD   PM  Max_Wind\n",
              "0    1131_1  1131    1  36.840574  ...   758.111816       NaN  3.7    -999.0\n",
              "1  1131_100  1131  100  36.840574  ...  1155.824219       NaN  2.6    -999.0\n",
              "2  1131_101  1131  101  36.840574  ...  1162.292725       NaN  2.9    -999.0\n",
              "3  1131_102  1131  102  36.840574  ...   263.273407       NaN  0.5    -999.0\n",
              "4  1131_104  1131  104  36.840574  ...  1268.919434  0.097667  2.4    -999.0\n",
              "\n",
              "[5 rows x 21 columns]"
            ]
          },
          "metadata": {
            "tags": []
          },
          "execution_count": 34
        }
      ]
    },
    {
      "cell_type": "code",
      "metadata": {
        "id": "mgapxiweBMOn",
        "colab_type": "code",
        "colab": {
          "base_uri": "https://localhost:8080/",
          "height": 35
        },
        "outputId": "832e4659-3b3d-4013-c1d0-eb2074315675"
      },
      "source": [
        "ag.__version__"
      ],
      "execution_count": 30,
      "outputs": [
        {
          "output_type": "execute_result",
          "data": {
            "application/vnd.google.colaboratory.intrinsic+json": {
              "type": "string"
            },
            "text/plain": [
              "'0.0.12'"
            ]
          },
          "metadata": {
            "tags": []
          },
          "execution_count": 30
        }
      ]
    },
    {
      "cell_type": "code",
      "metadata": {
        "id": "yLHBqu1a_MSg",
        "colab_type": "code",
        "colab": {
          "base_uri": "https://localhost:8080/",
          "height": 170
        },
        "outputId": "389beaef-3ec8-47b9-ea39-9ded4c732bbc"
      },
      "source": [
        "train_data = task.Dataset(file_path='Train.csv')\n",
        "print(train_data.head())"
      ],
      "execution_count": 35,
      "outputs": [
        {
          "output_type": "stream",
          "text": [
            "Loaded data from: Train.csv | Columns = 21 / 21 | Rows = 10082 -> 10082\n"
          ],
          "name": "stderr"
        },
        {
          "output_type": "stream",
          "text": [
            "     Unique    Id  Day        Lat  ...          BLH       AOD   PM  Max_Wind\n",
            "0    1131_1  1131    1  36.840574  ...   758.111816       NaN  3.7    -999.0\n",
            "1  1131_100  1131  100  36.840574  ...  1155.824219       NaN  2.6    -999.0\n",
            "2  1131_101  1131  101  36.840574  ...  1162.292725       NaN  2.9    -999.0\n",
            "3  1131_102  1131  102  36.840574  ...   263.273407       NaN  0.5    -999.0\n",
            "4  1131_104  1131  104  36.840574  ...  1268.919434  0.097667  2.4    -999.0\n",
            "\n",
            "[5 rows x 21 columns]\n"
          ],
          "name": "stdout"
        }
      ]
    },
    {
      "cell_type": "code",
      "metadata": {
        "id": "KDd_XHsL6rEo",
        "colab_type": "code",
        "colab": {
          "base_uri": "https://localhost:8080/",
          "height": 1000
        },
        "outputId": "54f5aee2-7e41-4ad3-91bf-64a99443e594"
      },
      "source": [
        "label_column = 'PM'\n",
        "predictor = task.fit(train_data=train_data, label=label_column,eval_metric='r2')"
      ],
      "execution_count": 41,
      "outputs": [
        {
          "output_type": "stream",
          "text": [
            "No output_directory specified. Models will be saved in: AutogluonModels/ag-20200729_194431/\n",
            "Beginning AutoGluon training ...\n",
            "AutoGluon will save models to AutogluonModels/ag-20200729_194431/\n",
            "AutoGluon Version:  0.0.12\n",
            "Train Data Rows:    10082\n",
            "Train Data Columns: 21\n",
            "Preprocessing data ...\n",
            "Here are the first 10 unique label values in your data:  [3.7, 2.6, 2.9, 0.5, 2.4, 1.8, 1.2, 3.4, 2.1, 5.4]\n",
            "AutoGluon infers your prediction problem is: regression  (because dtype of label-column == float and many unique label-values observed).\n",
            "If this is wrong, please specify `problem_type` argument in fit() instead (You may specify problem_type as one of: ['binary', 'multiclass', 'regression'])\n",
            "\n",
            "Feature Generator processed 10082 data points with 19 features\n",
            "Original Features (raw dtypes):\n",
            "\tobject features: 1\n",
            "\tint64 features: 6\n",
            "\tfloat64 features: 13\n",
            "Original Features (inferred dtypes):\n",
            "\tobject features: 1\n",
            "\tint features: 6\n",
            "\tfloat features: 13\n",
            "Generated Features (special dtypes):\n",
            "Final Features (raw dtypes):\n",
            "\tint features: 6\n",
            "\tfloat features: 13\n",
            "Final Features:\n",
            "\tint features: 6\n",
            "\tfloat features: 13\n",
            "\tData preprocessing and feature engineering runtime = 0.18s ...\n",
            "AutoGluon will gauge predictive performance using evaluation metric: r2\n",
            "To change this, specify the eval_metric argument of fit()\n",
            "AutoGluon will early stop models using evaluation metric: r2\n",
            "Fitting model: RandomForestRegressorMSE ...\n",
            "\t0.7248\t = Validation r2 score\n",
            "\t17.88s\t = Training runtime\n",
            "\t0.21s\t = Validation runtime\n",
            "Fitting model: ExtraTreesRegressorMSE ...\n",
            "\t0.7563\t = Validation r2 score\n",
            "\t8.46s\t = Training runtime\n",
            "\t0.21s\t = Validation runtime\n",
            "Fitting model: KNeighborsRegressorUnif ...\n",
            "\t0.1753\t = Validation r2 score\n",
            "\t0.05s\t = Training runtime\n",
            "\t0.12s\t = Validation runtime\n",
            "Fitting model: KNeighborsRegressorDist ...\n",
            "\t0.1585\t = Validation r2 score\n",
            "\t0.06s\t = Training runtime\n",
            "\t0.13s\t = Validation runtime\n",
            "Fitting model: LightGBMRegressor ...\n",
            "\t0.7557\t = Validation r2 score\n",
            "\t2.51s\t = Training runtime\n",
            "\t0.04s\t = Validation runtime\n",
            "Fitting model: CatboostRegressor ...\n",
            "\t0.8183\t = Validation r2 score\n",
            "\t12.23s\t = Training runtime\n",
            "\t0.01s\t = Validation runtime\n",
            "Fitting model: NeuralNetRegressor ...\n",
            "\t0.6222\t = Validation r2 score\n",
            "\t95.17s\t = Training runtime\n",
            "\t0.05s\t = Validation runtime\n",
            "Fitting model: LightGBMRegressorCustom ...\n",
            "\t0.7704\t = Validation r2 score\n",
            "\t10.0s\t = Training runtime\n",
            "\t0.17s\t = Validation runtime\n",
            "Fitting model: weighted_ensemble_k0_l1 ...\n",
            "\t0.8184\t = Validation r2 score\n",
            "\t0.5s\t = Training runtime\n",
            "\t0.0s\t = Validation runtime\n",
            "AutoGluon training complete, total runtime = 153.7s ...\n"
          ],
          "name": "stderr"
        }
      ]
    },
    {
      "cell_type": "code",
      "metadata": {
        "id": "R7-rvks3ELYU",
        "colab_type": "code",
        "colab": {
          "base_uri": "https://localhost:8080/",
          "height": 615
        },
        "outputId": "c33020a9-f53f-446c-cafa-e91d6aac9346"
      },
      "source": [
        "print(predictor.fit_summary())"
      ],
      "execution_count": 42,
      "outputs": [
        {
          "output_type": "stream",
          "text": [
            "*** Summary of fit() ***\n",
            "Estimated performance of each model:\n",
            "                      model  score_val  pred_time_val   fit_time  pred_time_val_marginal  fit_time_marginal  stack_level  can_infer\n",
            "0   weighted_ensemble_k0_l1   0.818351       0.225960  21.195846                0.001135           0.504698            1       True\n",
            "1         CatboostRegressor   0.818298       0.010546  12.227692                0.010546          12.227692            0       True\n",
            "2   LightGBMRegressorCustom   0.770380       0.165733  10.001117                0.165733          10.001117            0       True\n",
            "3    ExtraTreesRegressorMSE   0.756296       0.214279   8.463455                0.214279           8.463455            0       True\n",
            "4         LightGBMRegressor   0.755659       0.036463   2.512577                0.036463           2.512577            0       True\n",
            "5  RandomForestRegressorMSE   0.724806       0.212893  17.875016                0.212893          17.875016            0       True\n",
            "6        NeuralNetRegressor   0.622172       0.053562  95.169947                0.053562          95.169947            0       True\n",
            "7   KNeighborsRegressorUnif   0.175306       0.119426   0.050281                0.119426           0.050281            0       True\n",
            "8   KNeighborsRegressorDist   0.158504       0.127268   0.058989                0.127268           0.058989            0       True\n",
            "Number of models trained: 9\n",
            "Types of models trained:\n",
            "{'RFModel', 'XTModel', 'LGBModel', 'CatboostModel', 'WeightedEnsembleModel', 'KNNModel', 'TabularNeuralNetModel'}\n",
            "Bagging used: False \n",
            "Stack-ensembling used: False \n",
            "Hyperparameter-tuning used: False \n",
            "User-specified hyperparameters:\n",
            "{'default': {'NN': [{}], 'GBM': [{}], 'CAT': [{}], 'RF': [{'criterion': 'mse', 'AG_args': {'name_suffix': 'MSE', 'problem_types': ['regression']}}], 'XT': [{'criterion': 'mse', 'AG_args': {'name_suffix': 'MSE', 'problem_types': ['regression']}}], 'KNN': [{'weights': 'uniform', 'AG_args': {'name_suffix': 'Unif'}}, {'weights': 'distance', 'AG_args': {'name_suffix': 'Dist'}}], 'custom': [{'num_boost_round': 10000, 'num_threads': -1, 'objective': 'regression', 'verbose': -1, 'boosting_type': 'gbdt', 'learning_rate': 0.03, 'num_leaves': 128, 'feature_fraction': 0.9, 'min_data_in_leaf': 5, 'two_round': True, 'seed_value': 0, 'AG_args': {'model_type': 'GBM', 'name_suffix': 'Custom', 'disable_in_hpo': True}}]}}\n",
            "Plot summary of models saved to file: AutogluonModels/ag-20200729_194431/SummaryOfModels.html\n",
            "*** End of fit() summary ***\n",
            "{'model_types': {'RandomForestRegressorMSE': 'RFModel', 'ExtraTreesRegressorMSE': 'XTModel', 'KNeighborsRegressorUnif': 'KNNModel', 'KNeighborsRegressorDist': 'KNNModel', 'LightGBMRegressor': 'LGBModel', 'CatboostRegressor': 'CatboostModel', 'NeuralNetRegressor': 'TabularNeuralNetModel', 'LightGBMRegressorCustom': 'LGBModel', 'weighted_ensemble_k0_l1': 'WeightedEnsembleModel'}, 'model_performance': {'RandomForestRegressorMSE': 0.7248055314598745, 'ExtraTreesRegressorMSE': 0.7562960195471287, 'KNeighborsRegressorUnif': 0.1753059848010553, 'KNeighborsRegressorDist': 0.15850368280227167, 'LightGBMRegressor': 0.7556592986158152, 'CatboostRegressor': 0.818298496251109, 'NeuralNetRegressor': 0.6221719300862183, 'LightGBMRegressorCustom': 0.7703799080806635, 'weighted_ensemble_k0_l1': 0.8183506897201475}, 'model_best': 'weighted_ensemble_k0_l1', 'model_paths': {'RandomForestRegressorMSE': 'AutogluonModels/ag-20200729_194431/models/RandomForestRegressorMSE/', 'ExtraTreesRegressorMSE': 'AutogluonModels/ag-20200729_194431/models/ExtraTreesRegressorMSE/', 'KNeighborsRegressorUnif': 'AutogluonModels/ag-20200729_194431/models/KNeighborsRegressorUnif/', 'KNeighborsRegressorDist': 'AutogluonModels/ag-20200729_194431/models/KNeighborsRegressorDist/', 'LightGBMRegressor': 'AutogluonModels/ag-20200729_194431/models/LightGBMRegressor/', 'CatboostRegressor': 'AutogluonModels/ag-20200729_194431/models/CatboostRegressor/', 'NeuralNetRegressor': 'AutogluonModels/ag-20200729_194431/models/NeuralNetRegressor/', 'LightGBMRegressorCustom': 'AutogluonModels/ag-20200729_194431/models/LightGBMRegressorCustom/', 'weighted_ensemble_k0_l1': 'AutogluonModels/ag-20200729_194431/models/weighted_ensemble_k0_l1/'}, 'model_fit_times': {'RandomForestRegressorMSE': 17.87501621246338, 'ExtraTreesRegressorMSE': 8.463455200195312, 'KNeighborsRegressorUnif': 0.05028104782104492, 'KNeighborsRegressorDist': 0.05898928642272949, 'LightGBMRegressor': 2.5125770568847656, 'CatboostRegressor': 12.227692127227783, 'NeuralNetRegressor': 95.16994738578796, 'LightGBMRegressorCustom': 10.001117467880249, 'weighted_ensemble_k0_l1': 0.5046982765197754}, 'model_pred_times': {'RandomForestRegressorMSE': 0.21289300918579102, 'ExtraTreesRegressorMSE': 0.2142789363861084, 'KNeighborsRegressorUnif': 0.11942553520202637, 'KNeighborsRegressorDist': 0.12726831436157227, 'LightGBMRegressor': 0.03646254539489746, 'CatboostRegressor': 0.010546207427978516, 'NeuralNetRegressor': 0.053562164306640625, 'LightGBMRegressorCustom': 0.16573286056518555, 'weighted_ensemble_k0_l1': 0.001134634017944336}, 'num_bagging_folds': 0, 'stack_ensemble_levels': 0, 'feature_prune': False, 'hyperparameter_tune': False, 'hyperparameters_userspecified': {'default': {'NN': [{}], 'GBM': [{}], 'CAT': [{}], 'RF': [{'criterion': 'mse', 'AG_args': {'name_suffix': 'MSE', 'problem_types': ['regression']}}], 'XT': [{'criterion': 'mse', 'AG_args': {'name_suffix': 'MSE', 'problem_types': ['regression']}}], 'KNN': [{'weights': 'uniform', 'AG_args': {'name_suffix': 'Unif'}}, {'weights': 'distance', 'AG_args': {'name_suffix': 'Dist'}}], 'custom': [{'num_boost_round': 10000, 'num_threads': -1, 'objective': 'regression', 'verbose': -1, 'boosting_type': 'gbdt', 'learning_rate': 0.03, 'num_leaves': 128, 'feature_fraction': 0.9, 'min_data_in_leaf': 5, 'two_round': True, 'seed_value': 0, 'AG_args': {'model_type': 'GBM', 'name_suffix': 'Custom', 'disable_in_hpo': True}}]}}, 'model_hyperparams': {'RandomForestRegressorMSE': {'n_estimators': 300, 'n_jobs': -1, 'criterion': 'mse'}, 'ExtraTreesRegressorMSE': {'n_estimators': 300, 'n_jobs': -1, 'criterion': 'mse'}, 'KNeighborsRegressorUnif': {'weights': 'uniform', 'n_jobs': -1}, 'KNeighborsRegressorDist': {'weights': 'distance', 'n_jobs': -1}, 'LightGBMRegressor': {'num_boost_round': 10000, 'num_threads': -1, 'objective': 'regression', 'verbose': -1, 'boosting_type': 'gbdt', 'two_round': True}, 'CatboostRegressor': {'iterations': 10000, 'learning_rate': 0.1, 'random_seed': 0, 'eval_metric': 'R2', 'allow_writing_files': False}, 'NeuralNetRegressor': {'num_epochs': 500, 'epochs_wo_improve': 20, 'seed_value': None, 'proc.embed_min_categories': 4, 'proc.impute_strategy': 'median', 'proc.max_category_levels': 100, 'proc.skew_threshold': 0.99, 'network_type': 'widedeep', 'layers': None, 'numeric_embed_dim': None, 'activation': 'relu', 'max_layer_width': 2056, 'embedding_size_factor': 1.0, 'embed_exponent': 0.56, 'max_embedding_dim': 100, 'y_range': None, 'y_range_extend': 0.05, 'use_batchnorm': True, 'dropout_prob': 0.1, 'batch_size': 512, 'loss_function': None, 'optimizer': 'adam', 'learning_rate': 0.0003, 'weight_decay': 1e-06, 'clip_gradient': 100.0, 'momentum': 0.9, 'lr_scheduler': None, 'base_lr': 3e-05, 'target_lr': 1.0, 'lr_decay': 0.1, 'warmup_epochs': 10, 'use_ngram_features': False}, 'LightGBMRegressorCustom': {'num_boost_round': 10000, 'num_threads': -1, 'objective': 'regression', 'verbose': -1, 'boosting_type': 'gbdt', 'two_round': True, 'learning_rate': 0.03, 'num_leaves': 128, 'feature_fraction': 0.9, 'min_data_in_leaf': 5, 'seed_value': 0}, 'weighted_ensemble_k0_l1': {'max_models': 25, 'max_models_per_type': 5}}, 'leaderboard':                       model  score_val  ...  stack_level  can_infer\n",
            "0   weighted_ensemble_k0_l1   0.818351  ...            1       True\n",
            "1         CatboostRegressor   0.818298  ...            0       True\n",
            "2   LightGBMRegressorCustom   0.770380  ...            0       True\n",
            "3    ExtraTreesRegressorMSE   0.756296  ...            0       True\n",
            "4         LightGBMRegressor   0.755659  ...            0       True\n",
            "5  RandomForestRegressorMSE   0.724806  ...            0       True\n",
            "6        NeuralNetRegressor   0.622172  ...            0       True\n",
            "7   KNeighborsRegressorUnif   0.175306  ...            0       True\n",
            "8   KNeighborsRegressorDist   0.158504  ...            0       True\n",
            "\n",
            "[9 rows x 8 columns]}\n"
          ],
          "name": "stdout"
        }
      ]
    }
  ]
}